{
 "cells": [
  {
   "cell_type": "markdown",
   "metadata": {
    "slideshow": {
     "slide_type": "skip"
    }
   },
   "source": [
    "* Clear cell outputs\n",
    "* Use the correct background depending on the screen to be using\n",
    "* Edit properties on Edit/Edit metadata"
   ]
  },
  {
   "cell_type": "markdown",
   "metadata": {
    "slideshow": {
     "slide_type": "slide"
    }
   },
   "source": [
    "<div style=\"padding-top:25%\">\n",
    "    <div style=\"display: inline-block;  width: 10%;\">\n",
    "        <span></span>\n",
    "    </div>\n",
    "    <div style=\"display: inline-block;\">\n",
    "        <h1>\n",
    "            <span style=\"color:red\">VIZZU</span>ALIZACIÓN DE DATOS\n",
    "        </h1>\n",
    "        Una breve introducción al arte de visualizar datos\n",
    "        <h3>\n",
    "            Sebastián Flores, 8 Septiembre 2023\n",
    "            <br>\n",
    "            <span style=\"color:gray\">@sebastiandres</span>\n",
    "        </h3>\n",
    "    </div>\n",
    "    <div style=\"display: inline-block;  width: 10%;\">\n",
    "        <span></span>\n",
    "    </div>\n",
    "    <div style=\"display: inline-block;  width: 20%;\">\n",
    "        <img src=\"images/vizzu-logo.png\" alt=\"Vizzu\">\n",
    "    </div>\n",
    "</div>"
   ]
  },
  {
   "cell_type": "markdown",
   "metadata": {
    "slideshow": {
     "slide_type": "slide"
    }
   },
   "source": [
    "<div style=\"padding-top:500px\">\n",
    "    <div style=\"display: inline-block;  width: 10%;\">\n",
    "        <span></span>\n",
    "    </div>\n",
    "    <div style=\"display: inline-block;\">\n",
    "        <h1 style=\"color:blue\">QUIEN</h1>\n",
    "    </div>\n",
    "</div>\n"
   ]
  },
  {
   "cell_type": "markdown",
   "metadata": {
    "slideshow": {
     "slide_type": "slide"
    }
   },
   "source": [
    "<div style=\"padding-top:200px\">\n",
    "    <div style=\"display: inline-block;  width: 60%;\">\n",
    "        <ul>\n",
    "            <li>Sebastián Flores </li>\n",
    "            <li>Chief Data Officer en uPlanner</li>\n",
    "            <li>Colaborador en Python Chile, Streamlit y Vizzu</li>\n",
    "            <li>http://sebastiandres.xyz</li>\n",
    "            <br><br><br>\n",
    "        </ul>\n",
    "    </div>\n",
    "    <div style=\"display: inline-block; vertical-align: text-bottom; width: 30%;\">\n",
    "        <img src=\"images/avatar_milo.jpg\" alt=\"Seba y Milo\">\n",
    "    </div>\n",
    "</div>"
   ]
  },
  {
   "cell_type": "markdown",
   "metadata": {
    "slideshow": {
     "slide_type": "slide"
    }
   },
   "source": [
    "<div>\n",
    "    <div style=\"display: inline-block;  width: 10%;\">\n",
    "        <span></span>\n",
    "    </div>\n",
    "    <div style=\"display: inline-block;\">\n",
    "        <img src=\"images/gapminder.gif\" width=\"1100px\" alt=\"Gapminder\">\n",
    "        <span>https://gapminder.streamlit.app/</span>\n",
    "    </div>\n",
    "</div>\n"
   ]
  },
  {
   "cell_type": "markdown",
   "metadata": {
    "slideshow": {
     "slide_type": "slide"
    }
   },
   "source": [
    "<div style=\"padding-top:500px\">\n",
    "    <div style=\"display: inline-block;  width: 10%;\">\n",
    "        <span></span>\n",
    "    </div>\n",
    "    <div style=\"display: inline-block;\">\n",
    "        <h1 style=\"color:blue\">PORQUÉ</h1>\n",
    "    </div>\n",
    "</div>\n"
   ]
  },
  {
   "cell_type": "markdown",
   "metadata": {
    "slideshow": {
     "slide_type": "slide"
    }
   },
   "source": [
    "## ¿Porqué visualizamos datos?\n",
    "\n",
    "<br>\n",
    "\n",
    "<div>\n",
    "    <div style=\"display: inline-block;  width: 10%;\">\n",
    "    </div>\n",
    "    <div style=\"display: inline-block; vertical-align: text-bottom; width: 70%;\">\n",
    "        <h3>Un ejemplo clásico: El cuarteto de Anscombe</h3>\n",
    "        <br>\n",
    "        <img src=\"images/anscombe_data.png\" width=\"800px\" alt=\"Anscombe_data\">\n",
    "    </div>\n",
    "</div>"
   ]
  },
  {
   "cell_type": "markdown",
   "metadata": {
    "slideshow": {
     "slide_type": "slide"
    }
   },
   "source": [
    "## ¿Porqué visualizamos datos?\n",
    "\n",
    "\n",
    "<br>\n",
    "\n",
    "<div>\n",
    "    <div style=\"display: inline-block;  width: 10%;\">\n",
    "    </div>\n",
    "    <div style=\"display: inline-block; vertical-align: text-bottom; width: 70%;\">\n",
    "        <h3>Un ejemplo clásico: El cuarteto de Anscombe</h3>\n",
    "        <br>\n",
    "        <img src=\"images/anscombe_plot.png\" width=\"800px\" alt=\"Anscombe_plot\">\n",
    "    </div>\n",
    "</div>\n"
   ]
  },
  {
   "cell_type": "markdown",
   "metadata": {
    "slideshow": {
     "slide_type": "slide"
    }
   },
   "source": [
    "## ¿Porqué visualizamos datos?\n",
    "\n",
    "<br>\n",
    "\n",
    "<div>\n",
    "    <div style=\"display: inline-block;  width: 10%;\">\n",
    "    </div>\n",
    "    <div style=\"display: inline-block; vertical-align: text-bottom; width: 70%;\">\n",
    "        <h3>Un ejemplo moderno: El Datasaurio</h3>\n",
    "        <br>\n",
    "        <img src=\"images/datasaurus.gif\" width=\"1200px\" alt=\"Anscombe_plot\">\n",
    "    </div>\n",
    "</div>"
   ]
  },
  {
   "cell_type": "markdown",
   "metadata": {
    "slideshow": {
     "slide_type": "slide"
    }
   },
   "source": [
    "## ¿Porqué visualizamos datos?\n",
    "\n",
    "<div>\n",
    "    <div style=\"display: inline-block;  width: 10%;\">\n",
    "    </div>\n",
    "    <div style=\"display: inline-block; vertical-align: text-bottom; width: 70%;\">\n",
    "        <h3>Un ejemplo contemporáneo: evolución de formatos musicales</h3>\n",
    "    </div>\n",
    "</div>\n"
   ]
  },
  {
   "cell_type": "code",
   "execution_count": 3,
   "metadata": {},
   "outputs": [
    {
     "data": {
      "application/javascript": [
       "class IpyVizzu {\n",
       "  static version = \"0.16.0\";\n",
       "  static analytics = undefined;\n",
       "  static inhibitScroll = false;\n",
       "\n",
       "  constructor() {\n",
       "    document.addEventListener(\n",
       "      \"wheel\",\n",
       "      (evt) => {\n",
       "        IpyVizzu.inhibitScroll = true;\n",
       "      },\n",
       "      true,\n",
       "    );\n",
       "    document.addEventListener(\n",
       "      \"keydown\",\n",
       "      (evt) => {\n",
       "        IpyVizzu.inhibitScroll = true;\n",
       "      },\n",
       "      true,\n",
       "    );\n",
       "    document.addEventListener(\n",
       "      \"touchstart\",\n",
       "      (evt) => {\n",
       "        IpyVizzu.inhibitScroll = true;\n",
       "      },\n",
       "      true,\n",
       "    );\n",
       "\n",
       "    this.elements = {};\n",
       "    this.charts = {};\n",
       "    this.controls = {};\n",
       "\n",
       "    this.storage = {};\n",
       "    this.displays = {};\n",
       "\n",
       "    this.events = {};\n",
       "    this.loaded = {};\n",
       "    this.libs = {};\n",
       "  }\n",
       "\n",
       "  static clearInhibitScroll(element) {\n",
       "    IpyVizzu.inhibitScroll = false;\n",
       "  }\n",
       "\n",
       "  createChart(element, chartId, vizzulib, divWidth, divHeight) {\n",
       "    this.elements[chartId] = document.createElement(\"div\");\n",
       "    this.elements[\n",
       "      chartId\n",
       "    ].style.cssText = `width: ${divWidth}; height: ${divHeight};`;\n",
       "    this.loaded[chartId] = import(vizzulib);\n",
       "    this.charts[chartId] = this.loaded[chartId].then((Vizzu) => {\n",
       "      this.libs[chartId] = Vizzu.default;\n",
       "      const VizzuConstructor = Vizzu.default;\n",
       "      return new VizzuConstructor(this.elements[chartId]).initializing;\n",
       "    });\n",
       "    this._moveHere(chartId, element);\n",
       "  }\n",
       "\n",
       "  animate(\n",
       "    element,\n",
       "    chartId,\n",
       "    animId,\n",
       "    displayTarget,\n",
       "    scrollEnabled,\n",
       "    getChartTarget,\n",
       "    chartAnimOpts,\n",
       "  ) {\n",
       "    if (displayTarget === \"end\") this._moveHere(chartId, element);\n",
       "    this.controls[chartId] = this.charts[chartId];\n",
       "    this.charts[chartId] = this.charts[chartId].then((chart) => {\n",
       "      if (displayTarget === \"actual\") this._moveHere(chartId, element);\n",
       "      this._scroll(chartId, scrollEnabled);\n",
       "      let chartTarget = getChartTarget(this.libs[chartId]);\n",
       "      if (typeof chartTarget === \"string\") {\n",
       "        chartTarget = this.storage[chartTarget];\n",
       "      } else if (Array.isArray(chartTarget)) {\n",
       "        for (let i = 0; i < chartTarget.length; i++) {\n",
       "          const target = chartTarget[i].target;\n",
       "          if (typeof target === \"string\") {\n",
       "            chartTarget[i].target = this.storage[target];\n",
       "          }\n",
       "        }\n",
       "      }\n",
       "      chart = chart.animate(chartTarget, chartAnimOpts);\n",
       "      this.controls[animId] = chart;\n",
       "      return chart;\n",
       "    });\n",
       "  }\n",
       "\n",
       "  store(element, chartId, id) {\n",
       "    this.charts[chartId] = this.charts[chartId].then((chart) => {\n",
       "      this.storage[id] = chart.store();\n",
       "      return chart;\n",
       "    });\n",
       "  }\n",
       "\n",
       "  feature(element, chartId, name, enabled) {\n",
       "    this.charts[chartId] = this.charts[chartId].then((chart) => {\n",
       "      chart.feature(name, enabled);\n",
       "      return chart;\n",
       "    });\n",
       "  }\n",
       "\n",
       "  setEvent(element, chartId, id, event, handler) {\n",
       "    this.charts[chartId] = this.charts[chartId].then((chart) => {\n",
       "      this.events[id] = handler;\n",
       "      chart.on(event, this.events[id]);\n",
       "      return chart;\n",
       "    });\n",
       "  }\n",
       "\n",
       "  clearEvent(element, chartId, id, event) {\n",
       "    this.charts[chartId] = this.charts[chartId].then((chart) => {\n",
       "      chart.off(event, this.events[id]);\n",
       "      return chart;\n",
       "    });\n",
       "  }\n",
       "\n",
       "  log(element, chartId, chartProperty) {\n",
       "    this.charts[chartId] = this.charts[chartId].then((chart) => {\n",
       "      console.log(chart[chartProperty]);\n",
       "      return chart;\n",
       "    });\n",
       "  }\n",
       "\n",
       "  control(element, method, prevId, lastId, ...params) {\n",
       "    this.controls[prevId].then(() => {\n",
       "      this.controls[lastId].activated.then((control) => {\n",
       "        if (method === \"seek\") {\n",
       "          const value = params[0];\n",
       "          control[method](value);\n",
       "          return;\n",
       "        }\n",
       "        if (method === \"store\") {\n",
       "          const id = params[0];\n",
       "          this.storage[id] = control[method]();\n",
       "          return;\n",
       "        }\n",
       "        control[method]();\n",
       "      });\n",
       "    });\n",
       "  }\n",
       "\n",
       "  _moveHere(chartId, element) {\n",
       "    element.append(this.elements[chartId]);\n",
       "  }\n",
       "\n",
       "  _scroll(chartId, enabled) {\n",
       "    if (!IpyVizzu.inhibitScroll && enabled) {\n",
       "      this.elements[chartId].scrollIntoView({\n",
       "        behavior: \"auto\",\n",
       "        block: \"center\",\n",
       "      });\n",
       "    }\n",
       "  }\n",
       "\n",
       "  static _hide(element) {\n",
       "    document.getElementById(\n",
       "      element.selector.substring(1),\n",
       "    ).parentNode.style.display = \"none\";\n",
       "  }\n",
       "\n",
       "  static _display(prevElement, element) {\n",
       "    if (prevElement.parentNode) {\n",
       "      prevElement.parentNode.style.display = \"none\";\n",
       "    }\n",
       "    document.getElementById(\n",
       "      element.selector.substring(1),\n",
       "    ).parentNode.style.display = \"flex\";\n",
       "    document.getElementById(\n",
       "      element.selector.substring(1),\n",
       "    ).parentNode.style.margin = \"auto\";\n",
       "  }\n",
       "\n",
       "  static changeAnalyticsTo(analytics) {\n",
       "    if (IpyVizzu.analytics !== analytics) {\n",
       "      console.log(\"ipyvizzu gather usage stats:\", analytics);\n",
       "      IpyVizzu.analytics = analytics;\n",
       "    }\n",
       "    if (analytics) {\n",
       "      IpyVizzu._addHeadScript();\n",
       "    } else {\n",
       "      IpyVizzu._removeScript(\"ipyvizzu-analytics-head\");\n",
       "    }\n",
       "  }\n",
       "\n",
       "  static _addHeadScript() {\n",
       "    const scriptId = \"ipyvizzu-analytics-head\";\n",
       "    if (!IpyVizzu._isScriptAppended(scriptId)) {\n",
       "      const script = document.createElement(\"script\");\n",
       "      script.defer = true;\n",
       "      script.src = \"https://plausible.io/js/script.local.js\";\n",
       "      script.dataset.domain = \"usage.ipyvizzu.com\";\n",
       "      script.id = scriptId;\n",
       "      document.getElementsByTagName(\"head\")[0].appendChild(script);\n",
       "    }\n",
       "  }\n",
       "\n",
       "  static _isScriptAppended(id) {\n",
       "    return document.querySelector(`script[id=\"${id}\"]`) !== null;\n",
       "  }\n",
       "\n",
       "  static _removeScript(id) {\n",
       "    const script = document.getElementById(id);\n",
       "    if (script) script.remove();\n",
       "  }\n",
       "}\n",
       "\n",
       "if (IpyVizzu.version !== window.IpyVizzu?.version) {\n",
       "  window.IpyVizzu = IpyVizzu;\n",
       "  console.log(`ipyvizzu ${IpyVizzu.version}`);\n",
       "  window.ipyvizzu = new window.IpyVizzu();\n",
       "}\n",
       "\n",
       "if (window.IpyVizzu) window.IpyVizzu.changeAnalyticsTo(true);\n",
       "window.ipyvizzu.createChart(element, '6fb23a1', 'https://cdn.jsdelivr.net/npm/vizzu@0.8/dist/vizzu.min.js', '90%', '500px');\n",
       "window.ipyvizzu.animate(element, '6fb23a1', '09bae6b', 'manual', false, lib => { return {\"data\": {\"series\": [{\"name\": \"Year\", \"values\": [\"1972\", \"1972\", \"1972\", \"1972\", \"1972\", \"1972\", \"1972\", \"1972\", \"1973\", \"1973\", \"1973\", \"1974\", \"1974\", \"1974\", \"1975\", \"1975\", \"1975\", \"1976\", \"1976\", \"1976\", \"1977\", \"1977\", \"1977\", \"1978\", \"1978\", \"1978\", \"1979\", \"1979\", \"1979\", \"1980\", \"1980\", \"1980\", \"1981\", \"1981\", \"1981\", \"1982\", \"1982\", \"1982\", \"1983\", \"1983\", \"1983\", \"1984\", \"1984\", \"1984\", \"1985\", \"1985\", \"1985\", \"1986\", \"1986\", \"1986\", \"1987\", \"1987\", \"1987\", \"1988\", \"1988\", \"1988\", \"1989\", \"1989\", \"1989\", \"1989\", \"1990\", \"1990\", \"1990\", \"1990\", \"1991\", \"1991\", \"1991\", \"1991\", \"1992\", \"1992\", \"1992\", \"1992\", \"1993\", \"1993\", \"1993\", \"1993\", \"1994\", \"1994\", \"1994\", \"1994\", \"1995\", \"1995\", \"1995\", \"1995\", \"1996\", \"1996\", \"1996\", \"1996\", \"1997\", \"1997\", \"1997\", \"1997\", \"1998\", \"1998\", \"1998\", \"1998\", \"1999\", \"1999\", \"1999\", \"1999\", \"2000\", \"2000\", \"2000\", \"2000\", \"2001\", \"2001\", \"2001\", \"2001\", \"2002\", \"2002\", \"2002\", \"2002\", \"2003\", \"2003\", \"2003\", \"2003\", \"2004\", \"2004\", \"2004\", \"2004\", \"2004\", \"2004\", \"2005\", \"2005\", \"2005\", \"2005\", \"2005\", \"2005\", \"2005\", \"2006\", \"2006\", \"2006\", \"2006\", \"2006\", \"2006\", \"2006\", \"2007\", \"2007\", \"2007\", \"2007\", \"2007\", \"2007\", \"2007\", \"2008\", \"2008\", \"2008\", \"2008\", \"2008\", \"2008\", \"2008\", \"2009\", \"2009\", \"2009\", \"2009\", \"2009\", \"2009\", \"2010\", \"2010\", \"2010\", \"2010\", \"2010\", \"2010\", \"2011\", \"2011\", \"2011\", \"2011\", \"2011\", \"2011\", \"2012\", \"2012\", \"2012\", \"2012\", \"2012\", \"2012\", \"2013\", \"2013\", \"2013\", \"2013\", \"2013\", \"2013\", \"2014\", \"2014\", \"2014\", \"2014\", \"2014\", \"2014\", \"2015\", \"2015\", \"2015\", \"2015\", \"2015\", \"2015\", \"2016\", \"2016\", \"2016\", \"2016\", \"2016\", \"2016\", \"2017\", \"2017\", \"2017\", \"2017\", \"2017\", \"2017\", \"2018\", \"2018\", \"2018\", \"2018\", \"2018\", \"2018\", \"2019\", \"2019\", \"2019\", \"2019\", \"2019\", \"2019\", \"2020\", \"2020\", \"2020\", \"2020\", \"2020\", \"2020\"], \"type\": \"dimension\"}, {\"name\": \"Format\", \"values\": [\"Other\", \"DVD\", \"Tapes\", \"Download\", \"Streaming\", \"Cassette\", \"Vinyl\", \"CD\", \"Cassette\", \"Tapes\", \"Vinyl\", \"Cassette\", \"Tapes\", \"Vinyl\", \"Cassette\", \"Tapes\", \"Vinyl\", \"Cassette\", \"Tapes\", \"Vinyl\", \"Cassette\", \"Tapes\", \"Vinyl\", \"Cassette\", \"Tapes\", \"Vinyl\", \"Cassette\", \"Tapes\", \"Vinyl\", \"Tapes\", \"Cassette\", \"Vinyl\", \"Tapes\", \"Cassette\", \"Vinyl\", \"Tapes\", \"Cassette\", \"Vinyl\", \"CD\", \"Cassette\", \"Vinyl\", \"CD\", \"Vinyl\", \"Cassette\", \"CD\", \"Vinyl\", \"Cassette\", \"CD\", \"Vinyl\", \"Cassette\", \"Vinyl\", \"CD\", \"Cassette\", \"Vinyl\", \"CD\", \"Cassette\", \"DVD\", \"Vinyl\", \"CD\", \"Cassette\", \"DVD\", \"Vinyl\", \"CD\", \"Cassette\", \"Vinyl\", \"DVD\", \"Cassette\", \"CD\", \"Vinyl\", \"DVD\", \"Cassette\", \"CD\", \"Vinyl\", \"DVD\", \"Cassette\", \"CD\", \"Vinyl\", \"DVD\", \"Cassette\", \"CD\", \"Vinyl\", \"DVD\", \"Cassette\", \"CD\", \"Vinyl\", \"DVD\", \"Cassette\", \"CD\", \"Vinyl\", \"DVD\", \"Cassette\", \"CD\", \"Vinyl\", \"DVD\", \"Cassette\", \"CD\", \"Vinyl\", \"DVD\", \"Cassette\", \"CD\", \"Vinyl\", \"DVD\", \"Cassette\", \"CD\", \"Vinyl\", \"DVD\", \"Cassette\", \"CD\", \"Vinyl\", \"Cassette\", \"DVD\", \"CD\", \"Vinyl\", \"Cassette\", \"DVD\", \"CD\", \"Streaming\", \"Cassette\", \"Vinyl\", \"Download\", \"DVD\", \"CD\", \"Cassette\", \"Vinyl\", \"Streaming\", \"Other\", \"Download\", \"DVD\", \"CD\", \"Cassette\", \"Vinyl\", \"Streaming\", \"DVD\", \"Other\", \"Download\", \"CD\", \"Cassette\", \"Vinyl\", \"Streaming\", \"DVD\", \"Other\", \"Download\", \"CD\", \"Cassette\", \"Vinyl\", \"DVD\", \"Streaming\", \"Other\", \"Download\", \"CD\", \"Vinyl\", \"DVD\", \"Streaming\", \"Other\", \"Download\", \"CD\", \"Vinyl\", \"DVD\", \"Streaming\", \"Other\", \"Download\", \"CD\", \"Vinyl\", \"DVD\", \"Other\", \"Streaming\", \"Download\", \"CD\", \"DVD\", \"Vinyl\", \"Other\", \"Streaming\", \"CD\", \"Download\", \"DVD\", \"Vinyl\", \"Other\", \"Streaming\", \"CD\", \"Download\", \"DVD\", \"Vinyl\", \"Other\", \"CD\", \"Streaming\", \"Download\", \"DVD\", \"Other\", \"Vinyl\", \"CD\", \"Download\", \"Streaming\", \"DVD\", \"Other\", \"Vinyl\", \"CD\", \"Download\", \"Streaming\", \"DVD\", \"Other\", \"Vinyl\", \"CD\", \"Download\", \"Streaming\", \"DVD\", \"Other\", \"Vinyl\", \"CD\", \"Download\", \"Streaming\", \"DVD\", \"Other\", \"Vinyl\", \"CD\", \"Download\", \"Streaming\", \"DVD\", \"Other\", \"CD\", \"Vinyl\", \"Download\", \"Streaming\"], \"type\": \"dimension\"}, {\"name\": \"Revenue [m$]\", \"values\": [0.0, 0.0, 0.0, 0.0, 0.0, 0.0, 0.0, 0.0, 443.0, 2941.0, 8371.0, 458.0, 2953.0, 8137.0, 475.0, 2854.0, 8161.0, 663.0, 3108.0, 8679.0, 1066.0, 3464.0, 10422.0, 1786.0, 3763.0, 10851.0, 2070.0, 2440.0, 8594.0, 1655.0, 2214.0, 7695.0, 891.0, 3026.0, 7397.0, 97.0, 3713.0, 5922.0, 45.0, 4706.0, 5089.0, 257.0, 4602.0, 5938.0, 937.0, 3756.0, 5800.0, 2196.0, 2860.0, 5902.0, 2270.0, 3631.0, 6776.0, 1559.0, 4594.0, 7531.0, 241.0, 703.0, 5401.0, 7390.0, 341.0, 358.0, 6847.0, 7387.0, 177.0, 224.0, 6176.0, 8309.0, 147.0, 290.0, 6300.0, 9909.0, 111.0, 382.0, 5757.0, 11745.0, 114.0, 404.0, 5678.0, 14880.0, 122.0, 374.0, 4313.0, 16113.0, 139.0, 390.0, 3455.0, 16691.0, 111.0, 522.0, 2671.0, 16428.0, 95.0, 807.0, 2404.0, 18465.0, 93.0, 585.0, 1724.0, 20256.0, 81.0, 424.0, 948.0, 20075.0, 86.0, 490.0, 531.0, 18982.0, 65.0, 302.0, 427.0, 17355.0, 61.0, 152.0, 574.0, 15888.0, 10.0, 33.0, 54.0, 251.0, 841.0, 15726.0, 17.0, 36.0, 225.0, 560.0, 666.0, 813.0, 13969.0, 5.0, 33.0, 307.0, 582.0, 996.0, 1125.0, 12049.0, 4.0, 34.0, 337.0, 609.0, 1321.0, 1669.0, 9324.0, 1.0, 72.0, 275.0, 386.0, 1178.0, 2054.0, 6585.0, 80.0, 255.0, 436.0, 1098.0, 2361.0, 5217.0, 108.0, 212.0, 548.0, 763.0, 2665.0, 4028.0, 143.0, 174.0, 547.0, 752.0, 3021.0, 3573.0, 132.0, 187.0, 384.0, 1164.0, 2807.0, 3236.0, 118.0, 237.0, 327.0, 1616.0, 2382.0, 3136.0, 100.0, 273.0, 283.0, 1947.0, 1998.0, 2719.0, 83.0, 285.0, 370.0, 1580.0, 2464.0, 2546.0, 64.0, 296.0, 389.0, 1221.0, 1930.0, 4179.0, 40.0, 285.0, 417.0, 1103.0, 1412.0, 5721.0, 30.0, 322.0, 438.0, 718.0, 1038.0, 7491.0, 28.0, 307.0, 492.0, 639.0, 810.0, 8992.0, 29.0, 287.0, 484.0, 626.0, 653.0, 10075.0], \"type\": \"measure\"}]}, \"style\": {\"plot\": {\"paddingLeft\": 100, \"paddingTop\": 25, \"yAxis\": {\"color\": \"#ffffff00\", \"label\": {\"paddingRight\": 10}}, \"xAxis\": {\"title\": {\"color\": \"#ffffff00\"}, \"label\": {\"color\": \"#ffffff00\", \"numberFormat\": \"grouped\"}}, \"marker\": {\"colorPalette\": \"#b74c20FF #c47f58FF #1c9761FF #ea4549FF #875792FF #3562b6FF #ee7c34FF #efae3aFF\"}}, \"title\": {\"fontSize\": 20}}} }, undefined);\n",
       "window.ipyvizzu.animate(element, '6fb23a1', '19c264d', 'manual', false, lib => { return {\"data\": {\"filter\": record => { return (parseInt(record.Year) == 1973) }}, \"config\": {\"channels\": {\"y\": {\"set\": [\"Format\"]}, \"x\": {\"set\": [\"Revenue [m$]\"]}, \"label\": {\"set\": [\"Revenue [m$]\"]}, \"color\": {\"set\": [\"Format\"]}}, \"sort\": \"byValue\", \"title\": \"Ingresos anuales de la industria musical en EEU seg\\u00fan formato - 1973\"}} }, {\"duration\": 0.2, \"x\": {\"easing\": \"linear\", \"delay\": 0}, \"y\": {\"delay\": 0}, \"show\": {\"delay\": 0}, \"hide\": {\"delay\": 0}, \"title\": {\"duration\": 0, \"delay\": 0}});\n",
       "window.ipyvizzu.animate(element, '6fb23a1', '425c0ec', 'manual', false, lib => { return {\"data\": {\"filter\": record => { return (parseInt(record.Year) == 1974) }}, \"config\": {\"channels\": {\"y\": {\"set\": [\"Format\"]}, \"x\": {\"set\": [\"Revenue [m$]\"]}, \"label\": {\"set\": [\"Revenue [m$]\"]}, \"color\": {\"set\": [\"Format\"]}}, \"sort\": \"byValue\", \"title\": \"Ingresos anuales de la industria musical en EEU seg\\u00fan formato - 1974\"}} }, {\"duration\": 0.2, \"x\": {\"easing\": \"linear\", \"delay\": 0}, \"y\": {\"delay\": 0}, \"show\": {\"delay\": 0}, \"hide\": {\"delay\": 0}, \"title\": {\"duration\": 0, \"delay\": 0}});\n",
       "window.ipyvizzu.animate(element, '6fb23a1', 'b67e069', 'manual', false, lib => { return {\"data\": {\"filter\": record => { return (parseInt(record.Year) == 1975) }}, \"config\": {\"channels\": {\"y\": {\"set\": [\"Format\"]}, \"x\": {\"set\": [\"Revenue [m$]\"]}, \"label\": {\"set\": [\"Revenue [m$]\"]}, \"color\": {\"set\": [\"Format\"]}}, \"sort\": \"byValue\", \"title\": \"Ingresos anuales de la industria musical en EEU seg\\u00fan formato - 1975\"}} }, {\"duration\": 0.2, \"x\": {\"easing\": \"linear\", \"delay\": 0}, \"y\": {\"delay\": 0}, \"show\": {\"delay\": 0}, \"hide\": {\"delay\": 0}, \"title\": {\"duration\": 0, \"delay\": 0}});\n",
       "window.ipyvizzu.animate(element, '6fb23a1', '0ed1956', 'manual', false, lib => { return {\"data\": {\"filter\": record => { return (parseInt(record.Year) == 1976) }}, \"config\": {\"channels\": {\"y\": {\"set\": [\"Format\"]}, \"x\": {\"set\": [\"Revenue [m$]\"]}, \"label\": {\"set\": [\"Revenue [m$]\"]}, \"color\": {\"set\": [\"Format\"]}}, \"sort\": \"byValue\", \"title\": \"Ingresos anuales de la industria musical en EEU seg\\u00fan formato - 1976\"}} }, {\"duration\": 0.2, \"x\": {\"easing\": \"linear\", \"delay\": 0}, \"y\": {\"delay\": 0}, \"show\": {\"delay\": 0}, \"hide\": {\"delay\": 0}, \"title\": {\"duration\": 0, \"delay\": 0}});\n",
       "window.ipyvizzu.animate(element, '6fb23a1', 'bab5560', 'manual', false, lib => { return {\"data\": {\"filter\": record => { return (parseInt(record.Year) == 1977) }}, \"config\": {\"channels\": {\"y\": {\"set\": [\"Format\"]}, \"x\": {\"set\": [\"Revenue [m$]\"]}, \"label\": {\"set\": [\"Revenue [m$]\"]}, \"color\": {\"set\": [\"Format\"]}}, \"sort\": \"byValue\", \"title\": \"Ingresos anuales de la industria musical en EEU seg\\u00fan formato - 1977\"}} }, {\"duration\": 0.2, \"x\": {\"easing\": \"linear\", \"delay\": 0}, \"y\": {\"delay\": 0}, \"show\": {\"delay\": 0}, \"hide\": {\"delay\": 0}, \"title\": {\"duration\": 0, \"delay\": 0}});\n",
       "window.ipyvizzu.animate(element, '6fb23a1', '5e12e41', 'manual', false, lib => { return {\"data\": {\"filter\": record => { return (parseInt(record.Year) == 1978) }}, \"config\": {\"channels\": {\"y\": {\"set\": [\"Format\"]}, \"x\": {\"set\": [\"Revenue [m$]\"]}, \"label\": {\"set\": [\"Revenue [m$]\"]}, \"color\": {\"set\": [\"Format\"]}}, \"sort\": \"byValue\", \"title\": \"Ingresos anuales de la industria musical en EEU seg\\u00fan formato - 1978\"}} }, {\"duration\": 0.2, \"x\": {\"easing\": \"linear\", \"delay\": 0}, \"y\": {\"delay\": 0}, \"show\": {\"delay\": 0}, \"hide\": {\"delay\": 0}, \"title\": {\"duration\": 0, \"delay\": 0}});\n",
       "window.ipyvizzu.animate(element, '6fb23a1', '4ad9861', 'manual', false, lib => { return {\"data\": {\"filter\": record => { return (parseInt(record.Year) == 1979) }}, \"config\": {\"channels\": {\"y\": {\"set\": [\"Format\"]}, \"x\": {\"set\": [\"Revenue [m$]\"]}, \"label\": {\"set\": [\"Revenue [m$]\"]}, \"color\": {\"set\": [\"Format\"]}}, \"sort\": \"byValue\", \"title\": \"Ingresos anuales de la industria musical en EEU seg\\u00fan formato - 1979\"}} }, {\"duration\": 0.2, \"x\": {\"easing\": \"linear\", \"delay\": 0}, \"y\": {\"delay\": 0}, \"show\": {\"delay\": 0}, \"hide\": {\"delay\": 0}, \"title\": {\"duration\": 0, \"delay\": 0}});\n",
       "window.ipyvizzu.animate(element, '6fb23a1', 'e5c7427', 'manual', false, lib => { return {\"data\": {\"filter\": record => { return (parseInt(record.Year) == 1980) }}, \"config\": {\"channels\": {\"y\": {\"set\": [\"Format\"]}, \"x\": {\"set\": [\"Revenue [m$]\"]}, \"label\": {\"set\": [\"Revenue [m$]\"]}, \"color\": {\"set\": [\"Format\"]}}, \"sort\": \"byValue\", \"title\": \"Ingresos anuales de la industria musical en EEU seg\\u00fan formato - 1980\"}} }, {\"duration\": 0.2, \"x\": {\"easing\": \"linear\", \"delay\": 0}, \"y\": {\"delay\": 0}, \"show\": {\"delay\": 0}, \"hide\": {\"delay\": 0}, \"title\": {\"duration\": 0, \"delay\": 0}});\n",
       "window.ipyvizzu.animate(element, '6fb23a1', '3961f98', 'manual', false, lib => { return {\"data\": {\"filter\": record => { return (parseInt(record.Year) == 1981) }}, \"config\": {\"channels\": {\"y\": {\"set\": [\"Format\"]}, \"x\": {\"set\": [\"Revenue [m$]\"]}, \"label\": {\"set\": [\"Revenue [m$]\"]}, \"color\": {\"set\": [\"Format\"]}}, \"sort\": \"byValue\", \"title\": \"Ingresos anuales de la industria musical en EEU seg\\u00fan formato - 1981\"}} }, {\"duration\": 0.2, \"x\": {\"easing\": \"linear\", \"delay\": 0}, \"y\": {\"delay\": 0}, \"show\": {\"delay\": 0}, \"hide\": {\"delay\": 0}, \"title\": {\"duration\": 0, \"delay\": 0}});\n",
       "window.ipyvizzu.animate(element, '6fb23a1', '076b825', 'manual', false, lib => { return {\"data\": {\"filter\": record => { return (parseInt(record.Year) == 1982) }}, \"config\": {\"channels\": {\"y\": {\"set\": [\"Format\"]}, \"x\": {\"set\": [\"Revenue [m$]\"]}, \"label\": {\"set\": [\"Revenue [m$]\"]}, \"color\": {\"set\": [\"Format\"]}}, \"sort\": \"byValue\", \"title\": \"Ingresos anuales de la industria musical en EEU seg\\u00fan formato - 1982\"}} }, {\"duration\": 0.2, \"x\": {\"easing\": \"linear\", \"delay\": 0}, \"y\": {\"delay\": 0}, \"show\": {\"delay\": 0}, \"hide\": {\"delay\": 0}, \"title\": {\"duration\": 0, \"delay\": 0}});\n",
       "window.ipyvizzu.animate(element, '6fb23a1', 'd9648ad', 'manual', false, lib => { return {\"data\": {\"filter\": record => { return (parseInt(record.Year) == 1983) }}, \"config\": {\"channels\": {\"y\": {\"set\": [\"Format\"]}, \"x\": {\"set\": [\"Revenue [m$]\"]}, \"label\": {\"set\": [\"Revenue [m$]\"]}, \"color\": {\"set\": [\"Format\"]}}, \"sort\": \"byValue\", \"title\": \"Ingresos anuales de la industria musical en EEU seg\\u00fan formato - 1983\"}} }, {\"duration\": 0.2, \"x\": {\"easing\": \"linear\", \"delay\": 0}, \"y\": {\"delay\": 0}, \"show\": {\"delay\": 0}, \"hide\": {\"delay\": 0}, \"title\": {\"duration\": 0, \"delay\": 0}});\n",
       "window.ipyvizzu.animate(element, '6fb23a1', 'a3e148a', 'manual', false, lib => { return {\"data\": {\"filter\": record => { return (parseInt(record.Year) == 1984) }}, \"config\": {\"channels\": {\"y\": {\"set\": [\"Format\"]}, \"x\": {\"set\": [\"Revenue [m$]\"]}, \"label\": {\"set\": [\"Revenue [m$]\"]}, \"color\": {\"set\": [\"Format\"]}}, \"sort\": \"byValue\", \"title\": \"Ingresos anuales de la industria musical en EEU seg\\u00fan formato - 1984\"}} }, {\"duration\": 0.2, \"x\": {\"easing\": \"linear\", \"delay\": 0}, \"y\": {\"delay\": 0}, \"show\": {\"delay\": 0}, \"hide\": {\"delay\": 0}, \"title\": {\"duration\": 0, \"delay\": 0}});\n",
       "window.ipyvizzu.animate(element, '6fb23a1', '6520425', 'manual', false, lib => { return {\"data\": {\"filter\": record => { return (parseInt(record.Year) == 1985) }}, \"config\": {\"channels\": {\"y\": {\"set\": [\"Format\"]}, \"x\": {\"set\": [\"Revenue [m$]\"]}, \"label\": {\"set\": [\"Revenue [m$]\"]}, \"color\": {\"set\": [\"Format\"]}}, \"sort\": \"byValue\", \"title\": \"Ingresos anuales de la industria musical en EEU seg\\u00fan formato - 1985\"}} }, {\"duration\": 0.2, \"x\": {\"easing\": \"linear\", \"delay\": 0}, \"y\": {\"delay\": 0}, \"show\": {\"delay\": 0}, \"hide\": {\"delay\": 0}, \"title\": {\"duration\": 0, \"delay\": 0}});\n",
       "window.ipyvizzu.animate(element, '6fb23a1', 'e12d50e', 'manual', false, lib => { return {\"data\": {\"filter\": record => { return (parseInt(record.Year) == 1986) }}, \"config\": {\"channels\": {\"y\": {\"set\": [\"Format\"]}, \"x\": {\"set\": [\"Revenue [m$]\"]}, \"label\": {\"set\": [\"Revenue [m$]\"]}, \"color\": {\"set\": [\"Format\"]}}, \"sort\": \"byValue\", \"title\": \"Ingresos anuales de la industria musical en EEU seg\\u00fan formato - 1986\"}} }, {\"duration\": 0.2, \"x\": {\"easing\": \"linear\", \"delay\": 0}, \"y\": {\"delay\": 0}, \"show\": {\"delay\": 0}, \"hide\": {\"delay\": 0}, \"title\": {\"duration\": 0, \"delay\": 0}});\n",
       "window.ipyvizzu.animate(element, '6fb23a1', 'c7d215c', 'manual', false, lib => { return {\"data\": {\"filter\": record => { return (parseInt(record.Year) == 1987) }}, \"config\": {\"channels\": {\"y\": {\"set\": [\"Format\"]}, \"x\": {\"set\": [\"Revenue [m$]\"]}, \"label\": {\"set\": [\"Revenue [m$]\"]}, \"color\": {\"set\": [\"Format\"]}}, \"sort\": \"byValue\", \"title\": \"Ingresos anuales de la industria musical en EEU seg\\u00fan formato - 1987\"}} }, {\"duration\": 0.2, \"x\": {\"easing\": \"linear\", \"delay\": 0}, \"y\": {\"delay\": 0}, \"show\": {\"delay\": 0}, \"hide\": {\"delay\": 0}, \"title\": {\"duration\": 0, \"delay\": 0}});\n",
       "window.ipyvizzu.animate(element, '6fb23a1', '3c0ea58', 'manual', false, lib => { return {\"data\": {\"filter\": record => { return (parseInt(record.Year) == 1988) }}, \"config\": {\"channels\": {\"y\": {\"set\": [\"Format\"]}, \"x\": {\"set\": [\"Revenue [m$]\"]}, \"label\": {\"set\": [\"Revenue [m$]\"]}, \"color\": {\"set\": [\"Format\"]}}, \"sort\": \"byValue\", \"title\": \"Ingresos anuales de la industria musical en EEU seg\\u00fan formato - 1988\"}} }, {\"duration\": 0.2, \"x\": {\"easing\": \"linear\", \"delay\": 0}, \"y\": {\"delay\": 0}, \"show\": {\"delay\": 0}, \"hide\": {\"delay\": 0}, \"title\": {\"duration\": 0, \"delay\": 0}});\n",
       "window.ipyvizzu.animate(element, '6fb23a1', '40cd4c8', 'manual', false, lib => { return {\"data\": {\"filter\": record => { return (parseInt(record.Year) == 1989) }}, \"config\": {\"channels\": {\"y\": {\"set\": [\"Format\"]}, \"x\": {\"set\": [\"Revenue [m$]\"]}, \"label\": {\"set\": [\"Revenue [m$]\"]}, \"color\": {\"set\": [\"Format\"]}}, \"sort\": \"byValue\", \"title\": \"Ingresos anuales de la industria musical en EEU seg\\u00fan formato - 1989\"}} }, {\"duration\": 0.2, \"x\": {\"easing\": \"linear\", \"delay\": 0}, \"y\": {\"delay\": 0}, \"show\": {\"delay\": 0}, \"hide\": {\"delay\": 0}, \"title\": {\"duration\": 0, \"delay\": 0}});\n",
       "window.ipyvizzu.animate(element, '6fb23a1', 'b8ed0df', 'manual', false, lib => { return {\"data\": {\"filter\": record => { return (parseInt(record.Year) == 1990) }}, \"config\": {\"channels\": {\"y\": {\"set\": [\"Format\"]}, \"x\": {\"set\": [\"Revenue [m$]\"]}, \"label\": {\"set\": [\"Revenue [m$]\"]}, \"color\": {\"set\": [\"Format\"]}}, \"sort\": \"byValue\", \"title\": \"Ingresos anuales de la industria musical en EEU seg\\u00fan formato - 1990\"}} }, {\"duration\": 0.2, \"x\": {\"easing\": \"linear\", \"delay\": 0}, \"y\": {\"delay\": 0}, \"show\": {\"delay\": 0}, \"hide\": {\"delay\": 0}, \"title\": {\"duration\": 0, \"delay\": 0}});\n",
       "window.ipyvizzu.animate(element, '6fb23a1', '63aea01', 'manual', false, lib => { return {\"data\": {\"filter\": record => { return (parseInt(record.Year) == 1991) }}, \"config\": {\"channels\": {\"y\": {\"set\": [\"Format\"]}, \"x\": {\"set\": [\"Revenue [m$]\"]}, \"label\": {\"set\": [\"Revenue [m$]\"]}, \"color\": {\"set\": [\"Format\"]}}, \"sort\": \"byValue\", \"title\": \"Ingresos anuales de la industria musical en EEU seg\\u00fan formato - 1991\"}} }, {\"duration\": 0.2, \"x\": {\"easing\": \"linear\", \"delay\": 0}, \"y\": {\"delay\": 0}, \"show\": {\"delay\": 0}, \"hide\": {\"delay\": 0}, \"title\": {\"duration\": 0, \"delay\": 0}});\n",
       "window.ipyvizzu.animate(element, '6fb23a1', '62bbb7d', 'manual', false, lib => { return {\"data\": {\"filter\": record => { return (parseInt(record.Year) == 1992) }}, \"config\": {\"channels\": {\"y\": {\"set\": [\"Format\"]}, \"x\": {\"set\": [\"Revenue [m$]\"]}, \"label\": {\"set\": [\"Revenue [m$]\"]}, \"color\": {\"set\": [\"Format\"]}}, \"sort\": \"byValue\", \"title\": \"Ingresos anuales de la industria musical en EEU seg\\u00fan formato - 1992\"}} }, {\"duration\": 0.2, \"x\": {\"easing\": \"linear\", \"delay\": 0}, \"y\": {\"delay\": 0}, \"show\": {\"delay\": 0}, \"hide\": {\"delay\": 0}, \"title\": {\"duration\": 0, \"delay\": 0}});\n",
       "window.ipyvizzu.animate(element, '6fb23a1', '4c27ff0', 'manual', false, lib => { return {\"data\": {\"filter\": record => { return (parseInt(record.Year) == 1993) }}, \"config\": {\"channels\": {\"y\": {\"set\": [\"Format\"]}, \"x\": {\"set\": [\"Revenue [m$]\"]}, \"label\": {\"set\": [\"Revenue [m$]\"]}, \"color\": {\"set\": [\"Format\"]}}, \"sort\": \"byValue\", \"title\": \"Ingresos anuales de la industria musical en EEU seg\\u00fan formato - 1993\"}} }, {\"duration\": 0.2, \"x\": {\"easing\": \"linear\", \"delay\": 0}, \"y\": {\"delay\": 0}, \"show\": {\"delay\": 0}, \"hide\": {\"delay\": 0}, \"title\": {\"duration\": 0, \"delay\": 0}});\n",
       "window.ipyvizzu.animate(element, '6fb23a1', 'b109c5d', 'manual', false, lib => { return {\"data\": {\"filter\": record => { return (parseInt(record.Year) == 1994) }}, \"config\": {\"channels\": {\"y\": {\"set\": [\"Format\"]}, \"x\": {\"set\": [\"Revenue [m$]\"]}, \"label\": {\"set\": [\"Revenue [m$]\"]}, \"color\": {\"set\": [\"Format\"]}}, \"sort\": \"byValue\", \"title\": \"Ingresos anuales de la industria musical en EEU seg\\u00fan formato - 1994\"}} }, {\"duration\": 0.2, \"x\": {\"easing\": \"linear\", \"delay\": 0}, \"y\": {\"delay\": 0}, \"show\": {\"delay\": 0}, \"hide\": {\"delay\": 0}, \"title\": {\"duration\": 0, \"delay\": 0}});\n",
       "window.ipyvizzu.animate(element, '6fb23a1', '2db6e8f', 'manual', false, lib => { return {\"data\": {\"filter\": record => { return (parseInt(record.Year) == 1995) }}, \"config\": {\"channels\": {\"y\": {\"set\": [\"Format\"]}, \"x\": {\"set\": [\"Revenue [m$]\"]}, \"label\": {\"set\": [\"Revenue [m$]\"]}, \"color\": {\"set\": [\"Format\"]}}, \"sort\": \"byValue\", \"title\": \"Ingresos anuales de la industria musical en EEU seg\\u00fan formato - 1995\"}} }, {\"duration\": 0.2, \"x\": {\"easing\": \"linear\", \"delay\": 0}, \"y\": {\"delay\": 0}, \"show\": {\"delay\": 0}, \"hide\": {\"delay\": 0}, \"title\": {\"duration\": 0, \"delay\": 0}});\n",
       "window.ipyvizzu.animate(element, '6fb23a1', 'de1c39b', 'manual', false, lib => { return {\"data\": {\"filter\": record => { return (parseInt(record.Year) == 1996) }}, \"config\": {\"channels\": {\"y\": {\"set\": [\"Format\"]}, \"x\": {\"set\": [\"Revenue [m$]\"]}, \"label\": {\"set\": [\"Revenue [m$]\"]}, \"color\": {\"set\": [\"Format\"]}}, \"sort\": \"byValue\", \"title\": \"Ingresos anuales de la industria musical en EEU seg\\u00fan formato - 1996\"}} }, {\"duration\": 0.2, \"x\": {\"easing\": \"linear\", \"delay\": 0}, \"y\": {\"delay\": 0}, \"show\": {\"delay\": 0}, \"hide\": {\"delay\": 0}, \"title\": {\"duration\": 0, \"delay\": 0}});\n",
       "window.ipyvizzu.animate(element, '6fb23a1', 'c4d2785', 'manual', false, lib => { return {\"data\": {\"filter\": record => { return (parseInt(record.Year) == 1997) }}, \"config\": {\"channels\": {\"y\": {\"set\": [\"Format\"]}, \"x\": {\"set\": [\"Revenue [m$]\"]}, \"label\": {\"set\": [\"Revenue [m$]\"]}, \"color\": {\"set\": [\"Format\"]}}, \"sort\": \"byValue\", \"title\": \"Ingresos anuales de la industria musical en EEU seg\\u00fan formato - 1997\"}} }, {\"duration\": 0.2, \"x\": {\"easing\": \"linear\", \"delay\": 0}, \"y\": {\"delay\": 0}, \"show\": {\"delay\": 0}, \"hide\": {\"delay\": 0}, \"title\": {\"duration\": 0, \"delay\": 0}});\n",
       "window.ipyvizzu.animate(element, '6fb23a1', '8f29a81', 'manual', false, lib => { return {\"data\": {\"filter\": record => { return (parseInt(record.Year) == 1998) }}, \"config\": {\"channels\": {\"y\": {\"set\": [\"Format\"]}, \"x\": {\"set\": [\"Revenue [m$]\"]}, \"label\": {\"set\": [\"Revenue [m$]\"]}, \"color\": {\"set\": [\"Format\"]}}, \"sort\": \"byValue\", \"title\": \"Ingresos anuales de la industria musical en EEU seg\\u00fan formato - 1998\"}} }, {\"duration\": 0.2, \"x\": {\"easing\": \"linear\", \"delay\": 0}, \"y\": {\"delay\": 0}, \"show\": {\"delay\": 0}, \"hide\": {\"delay\": 0}, \"title\": {\"duration\": 0, \"delay\": 0}});\n",
       "window.ipyvizzu.animate(element, '6fb23a1', '1e675da', 'manual', false, lib => { return {\"data\": {\"filter\": record => { return (parseInt(record.Year) == 1999) }}, \"config\": {\"channels\": {\"y\": {\"set\": [\"Format\"]}, \"x\": {\"set\": [\"Revenue [m$]\"]}, \"label\": {\"set\": [\"Revenue [m$]\"]}, \"color\": {\"set\": [\"Format\"]}}, \"sort\": \"byValue\", \"title\": \"Ingresos anuales de la industria musical en EEU seg\\u00fan formato - 1999\"}} }, {\"duration\": 0.2, \"x\": {\"easing\": \"linear\", \"delay\": 0}, \"y\": {\"delay\": 0}, \"show\": {\"delay\": 0}, \"hide\": {\"delay\": 0}, \"title\": {\"duration\": 0, \"delay\": 0}});\n",
       "window.ipyvizzu.animate(element, '6fb23a1', '21ea0cf', 'manual', false, lib => { return {\"data\": {\"filter\": record => { return (parseInt(record.Year) == 2000) }}, \"config\": {\"channels\": {\"y\": {\"set\": [\"Format\"]}, \"x\": {\"set\": [\"Revenue [m$]\"]}, \"label\": {\"set\": [\"Revenue [m$]\"]}, \"color\": {\"set\": [\"Format\"]}}, \"sort\": \"byValue\", \"title\": \"Ingresos anuales de la industria musical en EEU seg\\u00fan formato - 2000\"}} }, {\"duration\": 0.2, \"x\": {\"easing\": \"linear\", \"delay\": 0}, \"y\": {\"delay\": 0}, \"show\": {\"delay\": 0}, \"hide\": {\"delay\": 0}, \"title\": {\"duration\": 0, \"delay\": 0}});\n",
       "window.ipyvizzu.animate(element, '6fb23a1', '092c3fa', 'manual', false, lib => { return {\"data\": {\"filter\": record => { return (parseInt(record.Year) == 2001) }}, \"config\": {\"channels\": {\"y\": {\"set\": [\"Format\"]}, \"x\": {\"set\": [\"Revenue [m$]\"]}, \"label\": {\"set\": [\"Revenue [m$]\"]}, \"color\": {\"set\": [\"Format\"]}}, \"sort\": \"byValue\", \"title\": \"Ingresos anuales de la industria musical en EEU seg\\u00fan formato - 2001\"}} }, {\"duration\": 0.2, \"x\": {\"easing\": \"linear\", \"delay\": 0}, \"y\": {\"delay\": 0}, \"show\": {\"delay\": 0}, \"hide\": {\"delay\": 0}, \"title\": {\"duration\": 0, \"delay\": 0}});\n",
       "window.ipyvizzu.animate(element, '6fb23a1', 'b90abcc', 'manual', false, lib => { return {\"data\": {\"filter\": record => { return (parseInt(record.Year) == 2002) }}, \"config\": {\"channels\": {\"y\": {\"set\": [\"Format\"]}, \"x\": {\"set\": [\"Revenue [m$]\"]}, \"label\": {\"set\": [\"Revenue [m$]\"]}, \"color\": {\"set\": [\"Format\"]}}, \"sort\": \"byValue\", \"title\": \"Ingresos anuales de la industria musical en EEU seg\\u00fan formato - 2002\"}} }, {\"duration\": 0.2, \"x\": {\"easing\": \"linear\", \"delay\": 0}, \"y\": {\"delay\": 0}, \"show\": {\"delay\": 0}, \"hide\": {\"delay\": 0}, \"title\": {\"duration\": 0, \"delay\": 0}});\n",
       "window.ipyvizzu.animate(element, '6fb23a1', 'a48e702', 'manual', false, lib => { return {\"data\": {\"filter\": record => { return (parseInt(record.Year) == 2003) }}, \"config\": {\"channels\": {\"y\": {\"set\": [\"Format\"]}, \"x\": {\"set\": [\"Revenue [m$]\"]}, \"label\": {\"set\": [\"Revenue [m$]\"]}, \"color\": {\"set\": [\"Format\"]}}, \"sort\": \"byValue\", \"title\": \"Ingresos anuales de la industria musical en EEU seg\\u00fan formato - 2003\"}} }, {\"duration\": 0.2, \"x\": {\"easing\": \"linear\", \"delay\": 0}, \"y\": {\"delay\": 0}, \"show\": {\"delay\": 0}, \"hide\": {\"delay\": 0}, \"title\": {\"duration\": 0, \"delay\": 0}});\n",
       "window.ipyvizzu.animate(element, '6fb23a1', 'dd8a6f8', 'manual', false, lib => { return {\"data\": {\"filter\": record => { return (parseInt(record.Year) == 2004) }}, \"config\": {\"channels\": {\"y\": {\"set\": [\"Format\"]}, \"x\": {\"set\": [\"Revenue [m$]\"]}, \"label\": {\"set\": [\"Revenue [m$]\"]}, \"color\": {\"set\": [\"Format\"]}}, \"sort\": \"byValue\", \"title\": \"Ingresos anuales de la industria musical en EEU seg\\u00fan formato - 2004\"}} }, {\"duration\": 0.2, \"x\": {\"easing\": \"linear\", \"delay\": 0}, \"y\": {\"delay\": 0}, \"show\": {\"delay\": 0}, \"hide\": {\"delay\": 0}, \"title\": {\"duration\": 0, \"delay\": 0}});\n",
       "window.ipyvizzu.animate(element, '6fb23a1', '32f1a7f', 'manual', false, lib => { return {\"data\": {\"filter\": record => { return (parseInt(record.Year) == 2005) }}, \"config\": {\"channels\": {\"y\": {\"set\": [\"Format\"]}, \"x\": {\"set\": [\"Revenue [m$]\"]}, \"label\": {\"set\": [\"Revenue [m$]\"]}, \"color\": {\"set\": [\"Format\"]}}, \"sort\": \"byValue\", \"title\": \"Ingresos anuales de la industria musical en EEU seg\\u00fan formato - 2005\"}} }, {\"duration\": 0.2, \"x\": {\"easing\": \"linear\", \"delay\": 0}, \"y\": {\"delay\": 0}, \"show\": {\"delay\": 0}, \"hide\": {\"delay\": 0}, \"title\": {\"duration\": 0, \"delay\": 0}});\n",
       "window.ipyvizzu.animate(element, '6fb23a1', '920ff03', 'manual', false, lib => { return {\"data\": {\"filter\": record => { return (parseInt(record.Year) == 2006) }}, \"config\": {\"channels\": {\"y\": {\"set\": [\"Format\"]}, \"x\": {\"set\": [\"Revenue [m$]\"]}, \"label\": {\"set\": [\"Revenue [m$]\"]}, \"color\": {\"set\": [\"Format\"]}}, \"sort\": \"byValue\", \"title\": \"Ingresos anuales de la industria musical en EEU seg\\u00fan formato - 2006\"}} }, {\"duration\": 0.2, \"x\": {\"easing\": \"linear\", \"delay\": 0}, \"y\": {\"delay\": 0}, \"show\": {\"delay\": 0}, \"hide\": {\"delay\": 0}, \"title\": {\"duration\": 0, \"delay\": 0}});\n",
       "window.ipyvizzu.animate(element, '6fb23a1', 'e3342fa', 'manual', false, lib => { return {\"data\": {\"filter\": record => { return (parseInt(record.Year) == 2007) }}, \"config\": {\"channels\": {\"y\": {\"set\": [\"Format\"]}, \"x\": {\"set\": [\"Revenue [m$]\"]}, \"label\": {\"set\": [\"Revenue [m$]\"]}, \"color\": {\"set\": [\"Format\"]}}, \"sort\": \"byValue\", \"title\": \"Ingresos anuales de la industria musical en EEU seg\\u00fan formato - 2007\"}} }, {\"duration\": 0.2, \"x\": {\"easing\": \"linear\", \"delay\": 0}, \"y\": {\"delay\": 0}, \"show\": {\"delay\": 0}, \"hide\": {\"delay\": 0}, \"title\": {\"duration\": 0, \"delay\": 0}});\n",
       "window.ipyvizzu.animate(element, '6fb23a1', 'e0f887e', 'manual', false, lib => { return {\"data\": {\"filter\": record => { return (parseInt(record.Year) == 2008) }}, \"config\": {\"channels\": {\"y\": {\"set\": [\"Format\"]}, \"x\": {\"set\": [\"Revenue [m$]\"]}, \"label\": {\"set\": [\"Revenue [m$]\"]}, \"color\": {\"set\": [\"Format\"]}}, \"sort\": \"byValue\", \"title\": \"Ingresos anuales de la industria musical en EEU seg\\u00fan formato - 2008\"}} }, {\"duration\": 0.2, \"x\": {\"easing\": \"linear\", \"delay\": 0}, \"y\": {\"delay\": 0}, \"show\": {\"delay\": 0}, \"hide\": {\"delay\": 0}, \"title\": {\"duration\": 0, \"delay\": 0}});\n",
       "window.ipyvizzu.animate(element, '6fb23a1', '256f1e2', 'manual', false, lib => { return {\"data\": {\"filter\": record => { return (parseInt(record.Year) == 2009) }}, \"config\": {\"channels\": {\"y\": {\"set\": [\"Format\"]}, \"x\": {\"set\": [\"Revenue [m$]\"]}, \"label\": {\"set\": [\"Revenue [m$]\"]}, \"color\": {\"set\": [\"Format\"]}}, \"sort\": \"byValue\", \"title\": \"Ingresos anuales de la industria musical en EEU seg\\u00fan formato - 2009\"}} }, {\"duration\": 0.2, \"x\": {\"easing\": \"linear\", \"delay\": 0}, \"y\": {\"delay\": 0}, \"show\": {\"delay\": 0}, \"hide\": {\"delay\": 0}, \"title\": {\"duration\": 0, \"delay\": 0}});\n",
       "window.ipyvizzu.animate(element, '6fb23a1', '651880f', 'manual', false, lib => { return {\"data\": {\"filter\": record => { return (parseInt(record.Year) == 2010) }}, \"config\": {\"channels\": {\"y\": {\"set\": [\"Format\"]}, \"x\": {\"set\": [\"Revenue [m$]\"]}, \"label\": {\"set\": [\"Revenue [m$]\"]}, \"color\": {\"set\": [\"Format\"]}}, \"sort\": \"byValue\", \"title\": \"Ingresos anuales de la industria musical en EEU seg\\u00fan formato - 2010\"}} }, {\"duration\": 0.2, \"x\": {\"easing\": \"linear\", \"delay\": 0}, \"y\": {\"delay\": 0}, \"show\": {\"delay\": 0}, \"hide\": {\"delay\": 0}, \"title\": {\"duration\": 0, \"delay\": 0}});\n",
       "window.ipyvizzu.animate(element, '6fb23a1', 'c8614a2', 'manual', false, lib => { return {\"data\": {\"filter\": record => { return (parseInt(record.Year) == 2011) }}, \"config\": {\"channels\": {\"y\": {\"set\": [\"Format\"]}, \"x\": {\"set\": [\"Revenue [m$]\"]}, \"label\": {\"set\": [\"Revenue [m$]\"]}, \"color\": {\"set\": [\"Format\"]}}, \"sort\": \"byValue\", \"title\": \"Ingresos anuales de la industria musical en EEU seg\\u00fan formato - 2011\"}} }, {\"duration\": 0.2, \"x\": {\"easing\": \"linear\", \"delay\": 0}, \"y\": {\"delay\": 0}, \"show\": {\"delay\": 0}, \"hide\": {\"delay\": 0}, \"title\": {\"duration\": 0, \"delay\": 0}});\n",
       "window.ipyvizzu.animate(element, '6fb23a1', 'a36ba29', 'manual', false, lib => { return {\"data\": {\"filter\": record => { return (parseInt(record.Year) == 2012) }}, \"config\": {\"channels\": {\"y\": {\"set\": [\"Format\"]}, \"x\": {\"set\": [\"Revenue [m$]\"]}, \"label\": {\"set\": [\"Revenue [m$]\"]}, \"color\": {\"set\": [\"Format\"]}}, \"sort\": \"byValue\", \"title\": \"Ingresos anuales de la industria musical en EEU seg\\u00fan formato - 2012\"}} }, {\"duration\": 0.2, \"x\": {\"easing\": \"linear\", \"delay\": 0}, \"y\": {\"delay\": 0}, \"show\": {\"delay\": 0}, \"hide\": {\"delay\": 0}, \"title\": {\"duration\": 0, \"delay\": 0}});\n",
       "window.ipyvizzu.animate(element, '6fb23a1', '74a741f', 'manual', false, lib => { return {\"data\": {\"filter\": record => { return (parseInt(record.Year) == 2013) }}, \"config\": {\"channels\": {\"y\": {\"set\": [\"Format\"]}, \"x\": {\"set\": [\"Revenue [m$]\"]}, \"label\": {\"set\": [\"Revenue [m$]\"]}, \"color\": {\"set\": [\"Format\"]}}, \"sort\": \"byValue\", \"title\": \"Ingresos anuales de la industria musical en EEU seg\\u00fan formato - 2013\"}} }, {\"duration\": 0.2, \"x\": {\"easing\": \"linear\", \"delay\": 0}, \"y\": {\"delay\": 0}, \"show\": {\"delay\": 0}, \"hide\": {\"delay\": 0}, \"title\": {\"duration\": 0, \"delay\": 0}});\n",
       "window.ipyvizzu.animate(element, '6fb23a1', '83f3dad', 'manual', false, lib => { return {\"data\": {\"filter\": record => { return (parseInt(record.Year) == 2014) }}, \"config\": {\"channels\": {\"y\": {\"set\": [\"Format\"]}, \"x\": {\"set\": [\"Revenue [m$]\"]}, \"label\": {\"set\": [\"Revenue [m$]\"]}, \"color\": {\"set\": [\"Format\"]}}, \"sort\": \"byValue\", \"title\": \"Ingresos anuales de la industria musical en EEU seg\\u00fan formato - 2014\"}} }, {\"duration\": 0.2, \"x\": {\"easing\": \"linear\", \"delay\": 0}, \"y\": {\"delay\": 0}, \"show\": {\"delay\": 0}, \"hide\": {\"delay\": 0}, \"title\": {\"duration\": 0, \"delay\": 0}});\n",
       "window.ipyvizzu.animate(element, '6fb23a1', '0be7ce1', 'manual', false, lib => { return {\"data\": {\"filter\": record => { return (parseInt(record.Year) == 2015) }}, \"config\": {\"channels\": {\"y\": {\"set\": [\"Format\"]}, \"x\": {\"set\": [\"Revenue [m$]\"]}, \"label\": {\"set\": [\"Revenue [m$]\"]}, \"color\": {\"set\": [\"Format\"]}}, \"sort\": \"byValue\", \"title\": \"Ingresos anuales de la industria musical en EEU seg\\u00fan formato - 2015\"}} }, {\"duration\": 0.2, \"x\": {\"easing\": \"linear\", \"delay\": 0}, \"y\": {\"delay\": 0}, \"show\": {\"delay\": 0}, \"hide\": {\"delay\": 0}, \"title\": {\"duration\": 0, \"delay\": 0}});\n",
       "window.ipyvizzu.animate(element, '6fb23a1', '6b82362', 'manual', false, lib => { return {\"data\": {\"filter\": record => { return (parseInt(record.Year) == 2016) }}, \"config\": {\"channels\": {\"y\": {\"set\": [\"Format\"]}, \"x\": {\"set\": [\"Revenue [m$]\"]}, \"label\": {\"set\": [\"Revenue [m$]\"]}, \"color\": {\"set\": [\"Format\"]}}, \"sort\": \"byValue\", \"title\": \"Ingresos anuales de la industria musical en EEU seg\\u00fan formato - 2016\"}} }, {\"duration\": 0.2, \"x\": {\"easing\": \"linear\", \"delay\": 0}, \"y\": {\"delay\": 0}, \"show\": {\"delay\": 0}, \"hide\": {\"delay\": 0}, \"title\": {\"duration\": 0, \"delay\": 0}});\n",
       "window.ipyvizzu.animate(element, '6fb23a1', '44f7716', 'manual', false, lib => { return {\"data\": {\"filter\": record => { return (parseInt(record.Year) == 2017) }}, \"config\": {\"channels\": {\"y\": {\"set\": [\"Format\"]}, \"x\": {\"set\": [\"Revenue [m$]\"]}, \"label\": {\"set\": [\"Revenue [m$]\"]}, \"color\": {\"set\": [\"Format\"]}}, \"sort\": \"byValue\", \"title\": \"Ingresos anuales de la industria musical en EEU seg\\u00fan formato - 2017\"}} }, {\"duration\": 0.2, \"x\": {\"easing\": \"linear\", \"delay\": 0}, \"y\": {\"delay\": 0}, \"show\": {\"delay\": 0}, \"hide\": {\"delay\": 0}, \"title\": {\"duration\": 0, \"delay\": 0}});\n",
       "window.ipyvizzu.animate(element, '6fb23a1', 'f303b6b', 'manual', false, lib => { return {\"data\": {\"filter\": record => { return (parseInt(record.Year) == 2018) }}, \"config\": {\"channels\": {\"y\": {\"set\": [\"Format\"]}, \"x\": {\"set\": [\"Revenue [m$]\"]}, \"label\": {\"set\": [\"Revenue [m$]\"]}, \"color\": {\"set\": [\"Format\"]}}, \"sort\": \"byValue\", \"title\": \"Ingresos anuales de la industria musical en EEU seg\\u00fan formato - 2018\"}} }, {\"duration\": 0.2, \"x\": {\"easing\": \"linear\", \"delay\": 0}, \"y\": {\"delay\": 0}, \"show\": {\"delay\": 0}, \"hide\": {\"delay\": 0}, \"title\": {\"duration\": 0, \"delay\": 0}});\n",
       "window.ipyvizzu.animate(element, '6fb23a1', '1e99bc1', 'manual', false, lib => { return {\"data\": {\"filter\": record => { return (parseInt(record.Year) == 2019) }}, \"config\": {\"channels\": {\"y\": {\"set\": [\"Format\"]}, \"x\": {\"set\": [\"Revenue [m$]\"]}, \"label\": {\"set\": [\"Revenue [m$]\"]}, \"color\": {\"set\": [\"Format\"]}}, \"sort\": \"byValue\", \"title\": \"Ingresos anuales de la industria musical en EEU seg\\u00fan formato - 2019\"}} }, {\"duration\": 0.2, \"x\": {\"easing\": \"linear\", \"delay\": 0}, \"y\": {\"delay\": 0}, \"show\": {\"delay\": 0}, \"hide\": {\"delay\": 0}, \"title\": {\"duration\": 0, \"delay\": 0}});\n",
       "window.ipyvizzu.animate(element, '6fb23a1', '0b6a901', 'manual', false, lib => { return {\"data\": {\"filter\": record => { return (parseInt(record.Year) == 2020) }}, \"config\": {\"channels\": {\"y\": {\"set\": [\"Format\"]}, \"x\": {\"set\": [\"Revenue [m$]\"]}, \"label\": {\"set\": [\"Revenue [m$]\"]}, \"color\": {\"set\": [\"Format\"]}}, \"sort\": \"byValue\", \"title\": \"Ingresos anuales de la industria musical en EEU seg\\u00fan formato - 2020\"}} }, {\"duration\": 0.2, \"x\": {\"easing\": \"linear\", \"delay\": 0}, \"y\": {\"delay\": 0}, \"show\": {\"delay\": 0}, \"hide\": {\"delay\": 0}, \"title\": {\"duration\": 0, \"delay\": 0}});\n",
       "window.ipyvizzu.animate(element, '6fb23a1', 'ff4228a', 'manual', false, lib => { return {\"config\": {\"channels\": {\"x\": {\"attach\": [\"Year\"]}, \"label\": {\"set\": null}}}} }, {\"duration\": 0.3});\n",
       "window.ipyvizzu.animate(element, '6fb23a1', 'a279c63', 'manual', false, lib => { return {\"data\": {\"filter\": record => { return (record.Year == '2020' || record.Year == '1972') }}, \"config\": {\"title\": \"Veamos el total de los \\u00faltimos 47 a\\u00f1os\"}} }, {\"duration\": 2});\n",
       "window.ipyvizzu.animate(element, '6fb23a1', '53e6b84', 'manual', false, lib => { return {\"config\": {\"sort\": \"none\"}} }, {\"delay\": 0, \"duration\": 2});\n",
       "window.ipyvizzu.animate(element, '6fb23a1', '821cac2', 'manual', false, lib => { return {\"data\": {\"filter\": record => { return (parseInt(record.Year) >= 2019 || record.Year == '1972') }}, \"config\": {\"split\": true}, \"style\": {\"plot.xAxis.interlacing.color\": \"#ffffff\"}} }, {\"duration\": 0.005});\n",
       "window.ipyvizzu.animate(element, '6fb23a1', '4e4dc15', 'manual', false, lib => { return {\"data\": {\"filter\": record => { return (parseInt(record.Year) >= 2018 || record.Year == '1972') }}, \"config\": {\"split\": true}, \"style\": {\"plot.xAxis.interlacing.color\": \"#ffffff\"}} }, {\"duration\": 0.005});\n",
       "window.ipyvizzu.animate(element, '6fb23a1', '1f0d1d0', 'manual', false, lib => { return {\"data\": {\"filter\": record => { return (parseInt(record.Year) >= 2017 || record.Year == '1972') }}, \"config\": {\"split\": true}, \"style\": {\"plot.xAxis.interlacing.color\": \"#ffffff\"}} }, {\"duration\": 0.005});\n",
       "window.ipyvizzu.animate(element, '6fb23a1', '7306260', 'manual', false, lib => { return {\"data\": {\"filter\": record => { return (parseInt(record.Year) >= 2016 || record.Year == '1972') }}, \"config\": {\"split\": true}, \"style\": {\"plot.xAxis.interlacing.color\": \"#ffffff\"}} }, {\"duration\": 0.005});\n",
       "window.ipyvizzu.animate(element, '6fb23a1', '4f75851', 'manual', false, lib => { return {\"data\": {\"filter\": record => { return (parseInt(record.Year) >= 2015 || record.Year == '1972') }}, \"config\": {\"split\": true}, \"style\": {\"plot.xAxis.interlacing.color\": \"#ffffff\"}} }, {\"duration\": 0.005});\n",
       "window.ipyvizzu.animate(element, '6fb23a1', '7a0c8e8', 'manual', false, lib => { return {\"data\": {\"filter\": record => { return (parseInt(record.Year) >= 2014 || record.Year == '1972') }}, \"config\": {\"split\": true}, \"style\": {\"plot.xAxis.interlacing.color\": \"#ffffff\"}} }, {\"duration\": 0.005});\n",
       "window.ipyvizzu.animate(element, '6fb23a1', 'e8b94b9', 'manual', false, lib => { return {\"data\": {\"filter\": record => { return (parseInt(record.Year) >= 2013 || record.Year == '1972') }}, \"config\": {\"split\": true}, \"style\": {\"plot.xAxis.interlacing.color\": \"#ffffff\"}} }, {\"duration\": 0.005});\n",
       "window.ipyvizzu.animate(element, '6fb23a1', 'c765837', 'manual', false, lib => { return {\"data\": {\"filter\": record => { return (parseInt(record.Year) >= 2012 || record.Year == '1972') }}, \"config\": {\"split\": true}, \"style\": {\"plot.xAxis.interlacing.color\": \"#ffffff\"}} }, {\"duration\": 0.005});\n",
       "window.ipyvizzu.animate(element, '6fb23a1', 'f7f9007', 'manual', false, lib => { return {\"data\": {\"filter\": record => { return (parseInt(record.Year) >= 2011 || record.Year == '1972') }}, \"config\": {\"split\": true}, \"style\": {\"plot.xAxis.interlacing.color\": \"#ffffff\"}} }, {\"duration\": 0.005});\n",
       "window.ipyvizzu.animate(element, '6fb23a1', '96c6db3', 'manual', false, lib => { return {\"data\": {\"filter\": record => { return (parseInt(record.Year) >= 2010 || record.Year == '1972') }}, \"config\": {\"split\": true}, \"style\": {\"plot.xAxis.interlacing.color\": \"#ffffff\"}} }, {\"duration\": 0.005});\n",
       "window.ipyvizzu.animate(element, '6fb23a1', '374876b', 'manual', false, lib => { return {\"data\": {\"filter\": record => { return (parseInt(record.Year) >= 2009 || record.Year == '1972') }}, \"config\": {\"split\": true}, \"style\": {\"plot.xAxis.interlacing.color\": \"#ffffff\"}} }, {\"duration\": 0.005});\n",
       "window.ipyvizzu.animate(element, '6fb23a1', '8ed48c5', 'manual', false, lib => { return {\"data\": {\"filter\": record => { return (parseInt(record.Year) >= 2008 || record.Year == '1972') }}, \"config\": {\"split\": true}, \"style\": {\"plot.xAxis.interlacing.color\": \"#ffffff\"}} }, {\"duration\": 0.005});\n",
       "window.ipyvizzu.animate(element, '6fb23a1', '4914b13', 'manual', false, lib => { return {\"data\": {\"filter\": record => { return (parseInt(record.Year) >= 2007 || record.Year == '1972') }}, \"config\": {\"split\": true}, \"style\": {\"plot.xAxis.interlacing.color\": \"#ffffff\"}} }, {\"duration\": 0.005});\n",
       "window.ipyvizzu.animate(element, '6fb23a1', 'ec82099', 'manual', false, lib => { return {\"data\": {\"filter\": record => { return (parseInt(record.Year) >= 2006 || record.Year == '1972') }}, \"config\": {\"split\": true}, \"style\": {\"plot.xAxis.interlacing.color\": \"#ffffff\"}} }, {\"duration\": 0.005});\n",
       "window.ipyvizzu.animate(element, '6fb23a1', '3248e6f', 'manual', false, lib => { return {\"data\": {\"filter\": record => { return (parseInt(record.Year) >= 2005 || record.Year == '1972') }}, \"config\": {\"split\": true}, \"style\": {\"plot.xAxis.interlacing.color\": \"#ffffff\"}} }, {\"duration\": 0.005});\n",
       "window.ipyvizzu.animate(element, '6fb23a1', 'cfbca01', 'manual', false, lib => { return {\"data\": {\"filter\": record => { return (parseInt(record.Year) >= 2004 || record.Year == '1972') }}, \"config\": {\"split\": true}, \"style\": {\"plot.xAxis.interlacing.color\": \"#ffffff\"}} }, {\"duration\": 0.005});\n",
       "window.ipyvizzu.animate(element, '6fb23a1', 'dae2efc', 'manual', false, lib => { return {\"data\": {\"filter\": record => { return (parseInt(record.Year) >= 2003 || record.Year == '1972') }}, \"config\": {\"split\": true}, \"style\": {\"plot.xAxis.interlacing.color\": \"#ffffff\"}} }, {\"duration\": 0.005});\n",
       "window.ipyvizzu.animate(element, '6fb23a1', 'f33e1b4', 'manual', false, lib => { return {\"data\": {\"filter\": record => { return (parseInt(record.Year) >= 2002 || record.Year == '1972') }}, \"config\": {\"split\": true}, \"style\": {\"plot.xAxis.interlacing.color\": \"#ffffff\"}} }, {\"duration\": 0.005});\n",
       "window.ipyvizzu.animate(element, '6fb23a1', '0bc2add', 'manual', false, lib => { return {\"data\": {\"filter\": record => { return (parseInt(record.Year) >= 2001 || record.Year == '1972') }}, \"config\": {\"split\": true}, \"style\": {\"plot.xAxis.interlacing.color\": \"#ffffff\"}} }, {\"duration\": 0.005});\n",
       "window.ipyvizzu.animate(element, '6fb23a1', '12a6ee9', 'manual', false, lib => { return {\"data\": {\"filter\": record => { return (parseInt(record.Year) >= 2000 || record.Year == '1972') }}, \"config\": {\"split\": true}, \"style\": {\"plot.xAxis.interlacing.color\": \"#ffffff\"}} }, {\"duration\": 0.005});\n",
       "window.ipyvizzu.animate(element, '6fb23a1', '68300c4', 'manual', false, lib => { return {\"data\": {\"filter\": record => { return (parseInt(record.Year) >= 1999 || record.Year == '1972') }}, \"config\": {\"split\": true}, \"style\": {\"plot.xAxis.interlacing.color\": \"#ffffff\"}} }, {\"duration\": 0.005});\n",
       "window.ipyvizzu.animate(element, '6fb23a1', '4fd77c1', 'manual', false, lib => { return {\"data\": {\"filter\": record => { return (parseInt(record.Year) >= 1998 || record.Year == '1972') }}, \"config\": {\"split\": true}, \"style\": {\"plot.xAxis.interlacing.color\": \"#ffffff\"}} }, {\"duration\": 0.005});\n",
       "window.ipyvizzu.animate(element, '6fb23a1', '4bacf55', 'manual', false, lib => { return {\"data\": {\"filter\": record => { return (parseInt(record.Year) >= 1997 || record.Year == '1972') }}, \"config\": {\"split\": true}, \"style\": {\"plot.xAxis.interlacing.color\": \"#ffffff\"}} }, {\"duration\": 0.005});\n",
       "window.ipyvizzu.animate(element, '6fb23a1', 'cd67e12', 'manual', false, lib => { return {\"data\": {\"filter\": record => { return (parseInt(record.Year) >= 1996 || record.Year == '1972') }}, \"config\": {\"split\": true}, \"style\": {\"plot.xAxis.interlacing.color\": \"#ffffff\"}} }, {\"duration\": 0.005});\n",
       "window.ipyvizzu.animate(element, '6fb23a1', '298635a', 'manual', false, lib => { return {\"data\": {\"filter\": record => { return (parseInt(record.Year) >= 1995 || record.Year == '1972') }}, \"config\": {\"split\": true}, \"style\": {\"plot.xAxis.interlacing.color\": \"#ffffff\"}} }, {\"duration\": 0.005});\n",
       "window.ipyvizzu.animate(element, '6fb23a1', '53c5461', 'manual', false, lib => { return {\"data\": {\"filter\": record => { return (parseInt(record.Year) >= 1994 || record.Year == '1972') }}, \"config\": {\"split\": true}, \"style\": {\"plot.xAxis.interlacing.color\": \"#ffffff\"}} }, {\"duration\": 0.005});\n",
       "window.ipyvizzu.animate(element, '6fb23a1', 'c5c8a5a', 'manual', false, lib => { return {\"data\": {\"filter\": record => { return (parseInt(record.Year) >= 1993 || record.Year == '1972') }}, \"config\": {\"split\": true}, \"style\": {\"plot.xAxis.interlacing.color\": \"#ffffff\"}} }, {\"duration\": 0.005});\n",
       "window.ipyvizzu.animate(element, '6fb23a1', '615d5b1', 'manual', false, lib => { return {\"data\": {\"filter\": record => { return (parseInt(record.Year) >= 1992 || record.Year == '1972') }}, \"config\": {\"split\": true}, \"style\": {\"plot.xAxis.interlacing.color\": \"#ffffff\"}} }, {\"duration\": 0.005});\n",
       "window.ipyvizzu.animate(element, '6fb23a1', '6b63f3d', 'manual', false, lib => { return {\"data\": {\"filter\": record => { return (parseInt(record.Year) >= 1991 || record.Year == '1972') }}, \"config\": {\"split\": true}, \"style\": {\"plot.xAxis.interlacing.color\": \"#ffffff\"}} }, {\"duration\": 0.005});\n",
       "window.ipyvizzu.animate(element, '6fb23a1', '30e8523', 'manual', false, lib => { return {\"data\": {\"filter\": record => { return (parseInt(record.Year) >= 1990 || record.Year == '1972') }}, \"config\": {\"split\": true}, \"style\": {\"plot.xAxis.interlacing.color\": \"#ffffff\"}} }, {\"duration\": 0.005});\n",
       "window.ipyvizzu.animate(element, '6fb23a1', '158592b', 'manual', false, lib => { return {\"data\": {\"filter\": record => { return (parseInt(record.Year) >= 1989 || record.Year == '1972') }}, \"config\": {\"split\": true}, \"style\": {\"plot.xAxis.interlacing.color\": \"#ffffff\"}} }, {\"duration\": 0.005});\n",
       "window.ipyvizzu.animate(element, '6fb23a1', 'cfe9d3e', 'manual', false, lib => { return {\"data\": {\"filter\": record => { return (parseInt(record.Year) >= 1988 || record.Year == '1972') }}, \"config\": {\"split\": true}, \"style\": {\"plot.xAxis.interlacing.color\": \"#ffffff\"}} }, {\"duration\": 0.005});\n",
       "window.ipyvizzu.animate(element, '6fb23a1', 'af4880d', 'manual', false, lib => { return {\"data\": {\"filter\": record => { return (parseInt(record.Year) >= 1987 || record.Year == '1972') }}, \"config\": {\"split\": true}, \"style\": {\"plot.xAxis.interlacing.color\": \"#ffffff\"}} }, {\"duration\": 0.005});\n",
       "window.ipyvizzu.animate(element, '6fb23a1', '0eaf740', 'manual', false, lib => { return {\"data\": {\"filter\": record => { return (parseInt(record.Year) >= 1986 || record.Year == '1972') }}, \"config\": {\"split\": true}, \"style\": {\"plot.xAxis.interlacing.color\": \"#ffffff\"}} }, {\"duration\": 0.005});\n",
       "window.ipyvizzu.animate(element, '6fb23a1', '5155adb', 'manual', false, lib => { return {\"data\": {\"filter\": record => { return (parseInt(record.Year) >= 1985 || record.Year == '1972') }}, \"config\": {\"split\": true}, \"style\": {\"plot.xAxis.interlacing.color\": \"#ffffff\"}} }, {\"duration\": 0.005});\n",
       "window.ipyvizzu.animate(element, '6fb23a1', 'ba2d646', 'manual', false, lib => { return {\"data\": {\"filter\": record => { return (parseInt(record.Year) >= 1984 || record.Year == '1972') }}, \"config\": {\"split\": true}, \"style\": {\"plot.xAxis.interlacing.color\": \"#ffffff\"}} }, {\"duration\": 0.005});\n",
       "window.ipyvizzu.animate(element, '6fb23a1', '5489f2f', 'manual', false, lib => { return {\"data\": {\"filter\": record => { return (parseInt(record.Year) >= 1983 || record.Year == '1972') }}, \"config\": {\"split\": true}, \"style\": {\"plot.xAxis.interlacing.color\": \"#ffffff\"}} }, {\"duration\": 0.005});\n",
       "window.ipyvizzu.animate(element, '6fb23a1', '0fbd1b6', 'manual', false, lib => { return {\"data\": {\"filter\": record => { return (parseInt(record.Year) >= 1982 || record.Year == '1972') }}, \"config\": {\"split\": true}, \"style\": {\"plot.xAxis.interlacing.color\": \"#ffffff\"}} }, {\"duration\": 0.005});\n",
       "window.ipyvizzu.animate(element, '6fb23a1', '8081d83', 'manual', false, lib => { return {\"data\": {\"filter\": record => { return (parseInt(record.Year) >= 1981 || record.Year == '1972') }}, \"config\": {\"split\": true}, \"style\": {\"plot.xAxis.interlacing.color\": \"#ffffff\"}} }, {\"duration\": 0.005});\n",
       "window.ipyvizzu.animate(element, '6fb23a1', '916791e', 'manual', false, lib => { return {\"data\": {\"filter\": record => { return (parseInt(record.Year) >= 1980 || record.Year == '1972') }}, \"config\": {\"split\": true}, \"style\": {\"plot.xAxis.interlacing.color\": \"#ffffff\"}} }, {\"duration\": 0.005});\n",
       "window.ipyvizzu.animate(element, '6fb23a1', '26bd3e0', 'manual', false, lib => { return {\"data\": {\"filter\": record => { return (parseInt(record.Year) >= 1979 || record.Year == '1972') }}, \"config\": {\"split\": true}, \"style\": {\"plot.xAxis.interlacing.color\": \"#ffffff\"}} }, {\"duration\": 0.005});\n",
       "window.ipyvizzu.animate(element, '6fb23a1', '46a38b6', 'manual', false, lib => { return {\"data\": {\"filter\": record => { return (parseInt(record.Year) >= 1978 || record.Year == '1972') }}, \"config\": {\"split\": true}, \"style\": {\"plot.xAxis.interlacing.color\": \"#ffffff\"}} }, {\"duration\": 0.005});\n",
       "window.ipyvizzu.animate(element, '6fb23a1', '193c85e', 'manual', false, lib => { return {\"data\": {\"filter\": record => { return (parseInt(record.Year) >= 1977 || record.Year == '1972') }}, \"config\": {\"split\": true}, \"style\": {\"plot.xAxis.interlacing.color\": \"#ffffff\"}} }, {\"duration\": 0.005});\n",
       "window.ipyvizzu.animate(element, '6fb23a1', '8a785b1', 'manual', false, lib => { return {\"data\": {\"filter\": record => { return (parseInt(record.Year) >= 1976 || record.Year == '1972') }}, \"config\": {\"split\": true}, \"style\": {\"plot.xAxis.interlacing.color\": \"#ffffff\"}} }, {\"duration\": 0.005});\n",
       "window.ipyvizzu.animate(element, '6fb23a1', '925dbf1', 'manual', false, lib => { return {\"data\": {\"filter\": record => { return (parseInt(record.Year) >= 1975 || record.Year == '1972') }}, \"config\": {\"split\": true}, \"style\": {\"plot.xAxis.interlacing.color\": \"#ffffff\"}} }, {\"duration\": 0.005});\n",
       "window.ipyvizzu.animate(element, '6fb23a1', 'cf22da2', 'manual', false, lib => { return {\"data\": {\"filter\": record => { return (parseInt(record.Year) >= 1974 || record.Year == '1972') }}, \"config\": {\"split\": true}, \"style\": {\"plot.xAxis.interlacing.color\": \"#ffffff\"}} }, {\"duration\": 0.005});\n",
       "window.ipyvizzu.animate(element, '6fb23a1', '2063691', 'manual', false, lib => { return {\"data\": {\"filter\": record => { return (parseInt(record.Year) >= 1973 || record.Year == '1972') }}, \"config\": {\"split\": true}, \"style\": {\"plot.xAxis.interlacing.color\": \"#ffffff\"}} }, {\"duration\": 0.005});\n",
       "window.ipyvizzu.animate(element, '6fb23a1', '5096edf', 'manual', false, lib => { return {\"data\": {\"filter\": record => { return (record.Year != '1972') }}, \"config\": {\"split\": false}} }, {\"duration\": 1.5});\n",
       "window.ipyvizzu.animate(element, '6fb23a1', 'cabda01', 'manual', false, lib => { return {\"config\": {\"channels\": {\"x\": {\"detach\": [\"Year\"]}}}} }, {\"duration\": 0});\n",
       "window.ipyvizzu.animate(element, '6fb23a1', '08013da', 'manual', false, lib => { return {\"config\": {\"channels\": {\"label\": {\"set\": [\"Revenue [m$]\"]}}}} }, {\"duration\": 0.1});\n",
       "window.ipyvizzu.animate(element, '6fb23a1', '103786d', 'manual', false, lib => { return {\"config\": {\"channels\": {\"x\": {\"attach\": [\"Year\"]}, \"label\": {\"detach\": [\"Revenue [m$]\"]}}}} }, {\"duration\": 1});\n",
       "window.ipyvizzu.animate(element, '6fb23a1', 'dbfab1d', 'manual', false, lib => { return {\"config\": {\"channels\": {\"x\": {\"set\": [\"Year\"]}, \"y\": {\"set\": [\"Revenue [m$]\", \"Format\"], \"range\": {\"min\": null, \"max\": null}}, \"color\": {\"set\": [\"Format\"]}}, \"title\": \"Ingresos industria musical en EEU seg\\u00fan formato 1973 - 2020\", \"split\": true}, \"style\": {\"plot\": {\"paddingLeft\": 7.5, \"paddingTop\": 25, \"xAxis\": {\"label\": {\"fontSize\": 9, \"angle\": 2.0, \"color\": \"#8e8e8e\"}}, \"yAxis\": {\"interlacing\": {\"color\": \"#ffffff00\"}, \"title\": {\"color\": \"#ffffff00\"}, \"label\": {\"color\": \"#ffffff00\"}}}}} }, {\"duration\": 2});\n",
       "window.ipyvizzu.animate(element, '6fb23a1', 'ab52210', 'manual', false, lib => { return {\"config\": {\"geometry\": \"area\"}} }, {\"duration\": 1});\n",
       "window.ipyvizzu.animate(element, '6fb23a1', 'c24e4cd', 'manual', false, lib => { return {\"config\": {\"channels\": {\"x\": {\"set\": [\"Year\"]}, \"y\": {\"range\": {\"max\": \"110%\"}}}, \"split\": false}, \"style\": {\"plot.marker.borderWidth\": 1}} }, {\"duration\": 1});"
      ]
     },
     "metadata": {},
     "output_type": "display_data"
    }
   ],
   "source": [
    "from scripts import ejemplo_wow\n",
    "chart = ejemplo_wow.make_chart(width=\"90%\", height=\"500px\")\n",
    "chart.show()"
   ]
  },
  {
   "cell_type": "markdown",
   "metadata": {
    "slideshow": {
     "slide_type": "slide"
    }
   },
   "source": [
    "<div style=\"padding-top:500px\">\n",
    "    <div style=\"display: inline-block;  width: 10%;\">\n",
    "        <span></span>\n",
    "    </div>\n",
    "    <div style=\"display: inline-block;\">\n",
    "        <h1 style=\"color:blue\">DÓNDE</h1>\n",
    "    </div>\n",
    "</div>\n"
   ]
  },
  {
   "cell_type": "markdown",
   "metadata": {
    "slideshow": {
     "slide_type": "slide"
    }
   },
   "source": [
    "<h2 style=\"padding-top:10px\">¿Dónde se puede usar Vizzu?</h2>\n",
    "<br>\n",
    "<br>\n",
    "<div style=\"display: inline-block; width: 100%;\">    \n",
    "    <div style=\"display: inline-block; text-align: center; vertical-align: top; width: 25%;\">\n",
    "        <img style=\"display: inline-block;\" src=\"images/ISO_C++_Logo.png\" width=\"100px\" alt=\"C++\">\n",
    "        <div>Core en C++</div>\n",
    "    </div>\n",
    "    <div style=\"display: inline-block; width: 5%;\"></div>\n",
    "    <div style=\"display: inline-block; text-align: center; vertical-align: top; width: 25%;\">\n",
    "        <img style=\"display: inline-block;\" src=\"images/JavaScript-logo.png\" width=\"100px\" alt=\"JS\">\n",
    "        <div>Wrapper en JavaScript</div>        \n",
    "        <img style=\"display: inline-block;\" src=\"images/vizzulib_button.png\" width=\"300px\" alt=\"C++\">\n",
    "    </div>\n",
    "    <div style=\"display: inline-block; width: 5%;\"></div>\n",
    "    <div style=\"display: inline-block; text-align: center; vertical-align: top; width: 25%;\">\n",
    "        <img style=\"display: inline-block;\" src=\"images/Python-logo.png\" width=\"100px\" alt=\"Py\">\n",
    "        <div>Wrapper en Python</div>        \n",
    "        <img style=\"display: inline-block;\" src=\"images/ipyvizzu_button.png\" width=\"300px\" alt=\"C++\">\n",
    "    </div>\n",
    "</div>"
   ]
  },
  {
   "cell_type": "markdown",
   "metadata": {
    "slideshow": {
     "slide_type": "fragment"
    }
   },
   "source": [
    "<div style=\"display: inline-block; width: 100%;\">    \n",
    "    <div style=\"display: inline-block; width: 30%;\"></div>\n",
    "    <div style=\"display: inline-block; text-align: center; vertical-align: top;\">\n",
    "        <img style=\"display: inline-block;\" src=\"images/vizzu.gif\" width=\"400px\" alt=\"C++\">\n",
    "        <div>https://vizzuhq.com/</div>\n",
    "    </div>\n",
    "</div>"
   ]
  },
  {
   "cell_type": "markdown",
   "metadata": {
    "slideshow": {
     "slide_type": "slide"
    }
   },
   "source": [
    "<h2 style=\"padding-top:100px\">¿Dónde se puede usar Vizzu <span style=\"color:blue\">en Python</span>?</h2>\n",
    "\n",
    "Prácticamente en todos los ambientes (environments) de python:\n",
    "\n",
    "* jupyter notebook & jupyter lab\n",
    "* colab: [ejemplo](https://colab.research.google.com/drive/1qON-DaIJ5kUdAwY7H38y-rrzS3tAlTWS?usp=sharing)\n",
    "* streamlit: [ejemplo](https://editable-dataframe-and-vizzu.streamlit.app/)\n",
    "* kaggle, deepnote, databricks, panel and more"
   ]
  },
  {
   "cell_type": "markdown",
   "metadata": {
    "slideshow": {
     "slide_type": "slide"
    }
   },
   "source": [
    "<div style=\"padding-top:500px\">\n",
    "    <div style=\"display: inline-block;  width: 10%;\">\n",
    "        <span></span>\n",
    "    </div>\n",
    "    <div style=\"display: inline-block;\">\n",
    "        <h1 style=\"color:blue\">CÓMO</h1>\n",
    "    </div>\n",
    "</div>\n"
   ]
  },
  {
   "cell_type": "markdown",
   "metadata": {
    "slideshow": {
     "slide_type": "slide"
    }
   },
   "source": [
    "## ¿Cómo preparar los datos para Vizzu?"
   ]
  },
  {
   "cell_type": "markdown",
   "metadata": {
    "slideshow": {
     "slide_type": "fragment"
    }
   },
   "source": [
    "<div>\n",
    "    <div style=\"display: inline-block;  width: 10%;\">\n",
    "    </div>\n",
    "    <div style=\"display: inline-block; vertical-align: text-bottom; width: 70%;\">\n",
    "        <img src=\"images/wide_long_format.png\" width=\"1000px\" alt=\"Anscombe_data\">\n",
    "    </div>\n",
    "</div>"
   ]
  },
  {
   "cell_type": "markdown",
   "metadata": {
    "slideshow": {
     "slide_type": "slide"
    }
   },
   "source": [
    "## ¿Cómo usar Vizzu?"
   ]
  },
  {
   "cell_type": "markdown",
   "metadata": {
    "slideshow": {
     "slide_type": "fragment"
    }
   },
   "source": [
    "<div>\n",
    "    <div style=\"display: inline-block;  vertical-align: text-bottom; width: 40%;\">\n",
    "        <img src=\"images/building-lego.gif\" width=\"400px\" alt=\"lego\">\n",
    "    </div>\n",
    "    <div style=\"display: inline-block; vertical-align: text-bottom; width: 40%;\">\n",
    "        <img src=\"images/ipyvizzu.png\" width=\"600px\" alt=\"Anscombe_data\">\n",
    "    </div>\n",
    "</div>"
   ]
  },
  {
   "cell_type": "markdown",
   "metadata": {
    "slideshow": {
     "slide_type": "fragment"
    }
   },
   "source": [
    "¡Define cada gráfico por separado, y la animación se ejecuta automáticamente!"
   ]
  },
  {
   "cell_type": "markdown",
   "metadata": {
    "slideshow": {
     "slide_type": "slide"
    }
   },
   "source": [
    "<div style=\"padding-top:200px\"><div>\n",
    "    \n",
    "### Opciones\n",
    "- **ipyvizzu**: \n",
    "    - Permite generar una animación, especificando los tiempos de transición.\n",
    "    - Útil si quieres guardar como gif/video y compartir, o insertar en una pptx.\n",
    "    \n",
    "- **ipyvizzu-stories**: \n",
    "    - Permite desplegar un gráfico interactivo, donde el usuario decide los tiempos de transición.\n",
    "    - Útil si tendrás una audiencia en vivo y quieres adaptar los tiempos de transición y comentar detalles de cada gráfico."
   ]
  },
  {
   "cell_type": "markdown",
   "metadata": {
    "slideshow": {
     "slide_type": "slide"
    }
   },
   "source": [
    "<div style=\"padding-top:200px\"><div>\n",
    "\n",
    "## ipyvizzu"
   ]
  },
  {
   "cell_type": "markdown",
   "metadata": {
    "slideshow": {
     "slide_type": "fragment"
    }
   },
   "source": [
    "Instalación:\n",
    "```bash\n",
    "pip install ipyvizzu\n",
    "```"
   ]
  },
  {
   "cell_type": "markdown",
   "metadata": {
    "slideshow": {
     "slide_type": "fragment"
    }
   },
   "source": [
    "Veamos paso a paso con una animación en iyvizzu"
   ]
  },
  {
   "cell_type": "code",
   "execution_count": null,
   "metadata": {
    "center": false,
    "slideshow": {
     "slide_type": "slide"
    }
   },
   "outputs": [],
   "source": [
    "import pandas as pd\n",
    "from ipyvizzu import Chart, Data, Config\n",
    " \n",
    "df = pd.read_csv(\"https://ipyvizzu.vizzuhq.com/0.16/showcases/titanic/titanic.csv\")\n",
    "data = Data()\n",
    "data.add_df(df)"
   ]
  },
  {
   "cell_type": "code",
   "execution_count": null,
   "metadata": {
    "center": false,
    "slideshow": {
     "slide_type": "slide"
    }
   },
   "outputs": [],
   "source": [
    "chart = Chart(width=\"100%\", height=\"600px\")\n",
    "chart.animate(data)"
   ]
  },
  {
   "cell_type": "code",
   "execution_count": null,
   "metadata": {
    "slideshow": {
     "slide_type": "slide"
    }
   },
   "outputs": [],
   "source": [
    "chart.animate(\n",
    "    Config(\n",
    "        {\n",
    "            \"x\": \"Count\",\n",
    "            \"y\": \"Sex\",\n",
    "            \"label\": \"Count\",\n",
    "            \"title\": \"Passengers of the Titanic\",\n",
    "        }\n",
    "    )\n",
    ")"
   ]
  },
  {
   "cell_type": "code",
   "execution_count": null,
   "metadata": {
    "slideshow": {
     "slide_type": "slide"
    }
   },
   "outputs": [],
   "source": [
    "chart.animate(\n",
    "    Config(\n",
    "        {\n",
    "            \"x\": [\"Count\", \"Survived\"],\n",
    "            \"label\": [\"Count\", \"Survived\"],\n",
    "            \"color\": \"Survived\",\n",
    "        }\n",
    "    )\n",
    ")"
   ]
  },
  {
   "cell_type": "code",
   "execution_count": null,
   "metadata": {
    "slideshow": {
     "slide_type": "slide"
    }
   },
   "outputs": [],
   "source": [
    "chart.animate(Config({\"x\": \"Count\", \"y\": [\"Sex\", \"Survived\"]}))"
   ]
  },
  {
   "cell_type": "code",
   "execution_count": null,
   "metadata": {
    "slideshow": {
     "slide_type": "slide"
    }
   },
   "outputs": [],
   "source": [
    "chart.animate(\n",
    "    Config(\n",
    "        {\n",
    "            \"x\": [\"Count\", \"Sex\", \"Survived\"],\n",
    "            \"y\": None,\n",
    "            \"coordSystem\": \"polar\",\n",
    "            \"color\": [\"Sex\", \"Survived\"],\n",
    "            \"label\": [\"Count\", \"Sex\", \"Survived\"],\n",
    "        }\n",
    "    )\n",
    ")"
   ]
  },
  {
   "cell_type": "markdown",
   "metadata": {
    "slideshow": {
     "slide_type": "slide"
    }
   },
   "source": [
    "Podemos juntar todo lo anterior, y crear una animación"
   ]
  },
  {
   "cell_type": "code",
   "execution_count": null,
   "metadata": {
    "slideshow": {
     "slide_type": "fragment"
    }
   },
   "outputs": [],
   "source": [
    "def titanic_chart(data):\n",
    "    chart = Chart()\n",
    "    chart.animate(data)\n",
    "    chart.animate(\n",
    "        Config(\n",
    "            {\n",
    "                \"x\": \"Count\",\n",
    "                \"y\": \"Sex\",\n",
    "                \"label\": \"Count\",\n",
    "                \"title\": \"Passengers of the Titanic\",\n",
    "            }\n",
    "        )\n",
    "    )\n",
    "    chart.animate(\n",
    "        Config(\n",
    "            {\n",
    "                \"x\": [\"Count\", \"Survived\"],\n",
    "                \"label\": [\"Count\", \"Survived\"],\n",
    "                \"color\": \"Survived\",\n",
    "            }\n",
    "        )\n",
    "    )\n",
    "    chart.animate(Config({\"x\": \"Count\", \"y\": [\"Sex\", \"Survived\"]})) \n",
    "    chart.animate(\n",
    "        Config(\n",
    "            {\n",
    "                \"x\": [\"Count\", \"Sex\", \"Survived\"],\n",
    "                \"y\": None,\n",
    "                \"coordSystem\": \"polar\",\n",
    "            }\n",
    "        )\n",
    "    )\n",
    "    return chart"
   ]
  },
  {
   "cell_type": "code",
   "execution_count": null,
   "metadata": {
    "slideshow": {
     "slide_type": "slide"
    }
   },
   "outputs": [],
   "source": [
    "vc = titanic_chart(data)"
   ]
  },
  {
   "cell_type": "markdown",
   "metadata": {
    "slideshow": {
     "slide_type": "slide"
    }
   },
   "source": [
    "<div style=\"padding-top:200px\"><div>\n",
    "\n",
    "## ipyvizzu-story"
   ]
  },
  {
   "cell_type": "markdown",
   "metadata": {
    "slideshow": {
     "slide_type": "fragment"
    }
   },
   "source": [
    "Es posible controlar las transiciones entre los gráficos de manera manual, mediante una librería adicional llamada ipyvizzu-story. \n",
    "\n",
    "Los elementos centrales (Data, Config, Style) son los mismos, pero tiene alguna API un poco diferente."
   ]
  },
  {
   "cell_type": "markdown",
   "metadata": {
    "slideshow": {
     "slide_type": "fragment"
    }
   },
   "source": [
    "Instalación:\n",
    "```bash\n",
    "pip install ipyvizzu-story\n",
    "```"
   ]
  },
  {
   "cell_type": "code",
   "execution_count": null,
   "metadata": {
    "slideshow": {
     "slide_type": "slide"
    }
   },
   "outputs": [],
   "source": [
    "# https://ipyvizzu-story.vizzuhq.com/latest/examples/titanic/\n",
    "import pandas as pd\n",
    " \n",
    "from ipyvizzu import Data, Config, Style\n",
    "from ipyvizzustory import Story, Slide, Step\n",
    " \n",
    " \n",
    "# Create data object, read csv to data frame and add data frame to data object\n",
    "data = Data()\n",
    "df = pd.read_csv(\n",
    "    \"https://ipyvizzu-story.vizzuhq.com/0.7/examples/titanic/titanic.csv\",\n",
    "    dtype={\"Pclass\": str},\n",
    ")\n",
    " \n",
    "data.add_df(df)"
   ]
  },
  {
   "cell_type": "code",
   "execution_count": null,
   "metadata": {
    "slideshow": {
     "slide_type": "slide"
    }
   },
   "outputs": [],
   "source": [
    "# Create story object with the data\n",
    "story = Story(data=data)\n",
    " \n",
    "# Set the size of the HTML element\n",
    "# that appears within the notebook\n",
    "story.set_size(\"90%\", \"700px\")\n",
    " \n",
    "# Switch on the tooltip that appears\n",
    "# when the user hovers the mouse over a chart element\n",
    "story.set_feature(\"tooltip\", True)"
   ]
  },
  {
   "cell_type": "code",
   "execution_count": null,
   "metadata": {
    "slideshow": {
     "slide_type": "slide"
    }
   },
   "outputs": [],
   "source": [
    " \n",
    "# Each slide here is a page in the final interactive story\n",
    "# Add the first slide\n",
    "slide1 = Slide(\n",
    "    Step(\n",
    "        Config.bar(\n",
    "            {\"x\": \"Count\", \"title\": \"Passengers of the Titanic\"}\n",
    "        ),\n",
    "    )\n",
    ")\n",
    "# Add the slide to the story\n",
    "story.add_slide(slide1)"
   ]
  },
  {
   "cell_type": "code",
   "execution_count": null,
   "metadata": {
    "slideshow": {
     "slide_type": "slide"
    }
   },
   "outputs": [],
   "source": [
    " \n",
    "slide2 = Slide()\n",
    "slide2.add_step(\n",
    "    Step(\n",
    "        Config.stackedBar({\"x\": \"Count\", \"stackedBy\": \"Sex\"}),\n",
    "    )\n",
    ")\n",
    "slide2.add_step(\n",
    "    Step(\n",
    "        Config.groupedBar(\n",
    "            {\n",
    "                \"x\": \"Count\",\n",
    "                \"y\": \"Sex\",\n",
    "                \"groupedBy\": \"Sex\",\n",
    "                \"legend\": \"color\",\n",
    "                \"title\": \"Rougly one-third of the passengers were ladies\",\n",
    "            }\n",
    "        ),\n",
    "    )\n",
    ")\n",
    "story.add_slide(slide2)"
   ]
  },
  {
   "cell_type": "code",
   "execution_count": null,
   "metadata": {
    "slideshow": {
     "slide_type": "slide"
    }
   },
   "outputs": [],
   "source": [
    "slide3 = Slide()\n",
    "slide3.add_step(\n",
    "    Step(\n",
    "        Config(\n",
    "            {\n",
    "                \"x\": [\"Count\", \"Survived\"],\n",
    "                \"y\": \"Sex\",\n",
    "                \"color\": \"Sex\",\n",
    "                \"lightness\": \"Survived\",\n",
    "                \"label\": [\"Survived\", \"Count\"],\n",
    "            }\n",
    "        ),\n",
    "    )\n",
    ")\n",
    "slide3.add_step(\n",
    "    Step(\n",
    "        Config(\n",
    "            {\n",
    "                \"align\": \"stretch\",\n",
    "                \"title\": \"Much more women survived than men\",\n",
    "            }\n",
    "        ),\n",
    "    )\n",
    ")\n",
    "story.add_slide(slide3)"
   ]
  },
  {
   "cell_type": "code",
   "execution_count": null,
   "metadata": {
    "slideshow": {
     "slide_type": "slide"
    }
   },
   "outputs": [],
   "source": [
    "story.play()"
   ]
  },
  {
   "cell_type": "markdown",
   "metadata": {
    "slideshow": {
     "slide_type": "skip"
    }
   },
   "source": [
    "<div style=\"padding-top:500px\">\n",
    "    <div style=\"display: inline-block;  width: 10%;\">\n",
    "        <span></span>\n",
    "    </div>\n",
    "    <div style=\"display: inline-block;\">\n",
    "        <h1 style=\"color:blue\">ALGUNOS CONSEJOS...</h1>\n",
    "    </div>\n",
    "</div>"
   ]
  },
  {
   "cell_type": "markdown",
   "metadata": {
    "slideshow": {
     "slide_type": "skip"
    }
   },
   "source": [
    "## ¿Cómo hacer una buena visualización de datos?"
   ]
  },
  {
   "cell_type": "markdown",
   "metadata": {
    "slideshow": {
     "slide_type": "skip"
    }
   },
   "source": [
    "Considera 2 perspectivas:\n",
    "* Explorador: Conoce los datos extremadamente bien.\n",
    "* Narrador: Cuenta una historia atractiva."
   ]
  },
  {
   "cell_type": "markdown",
   "metadata": {
    "slideshow": {
     "slide_type": "skip"
    }
   },
   "source": [
    "## Estrategias narrativas\n",
    "Considera usar las siguientes estrategias narrativas:\n",
    "* Descomponer: separar el todo en sus partes\n",
    "* Filtrar: tomar una parte del todo\n",
    "* \n",
    "    "
   ]
  },
  {
   "cell_type": "markdown",
   "metadata": {
    "slideshow": {
     "slide_type": "skip"
    }
   },
   "source": [
    "## Para aprender más\n",
    "\n",
    "* Página principal de vizzu: [https://vizzuhq.com/](https://vizzuhq.com/)\n",
    "* Página de ipyvizzu: [https://ipyvizzu.vizzuhq.com/](https://ipyvizzu.vizzuhq.com/)\n",
    "* Página de ipyvizzy-story: [https://ipyvizzu-story.vizzuhq.com/](https://ipyvizzu-story.vizzuhq.com/)\n",
    "* Mini-curso: https://fralfaro.github.io/Vizzu-Examples/\n",
    "\n",
    "¡Perseverar! La librería tiene una curva de aprendizaje, y el tutorial es bastante bueno para comenzar a aprender."
   ]
  },
  {
   "cell_type": "markdown",
   "metadata": {
    "slideshow": {
     "slide_type": "slide"
    }
   },
   "source": [
    "<div style=\"padding-top:500px\">\n",
    "    <div style=\"display: inline-block;  width: 10%;\">\n",
    "        <span></span>\n",
    "    </div>\n",
    "    <div style=\"display: inline-block;\">\n",
    "        <h1 style=\"color:blue\">¿PREGUNTAS?</h1>\n",
    "    </div>\n",
    "</div>\n"
   ]
  },
  {
   "cell_type": "markdown",
   "metadata": {
    "slideshow": {
     "slide_type": "skip"
    }
   },
   "source": []
  }
 ],
 "metadata": {
  "celltoolbar": "Slideshow",
  "kernelspec": {
   "display_name": "Python 3 (ipykernel)",
   "language": "python",
   "name": "python3"
  },
  "language_info": {
   "codemirror_mode": {
    "name": "ipython",
    "version": 3
   },
   "file_extension": ".py",
   "mimetype": "text/x-python",
   "name": "python",
   "nbconvert_exporter": "python",
   "pygments_lexer": "ipython3",
   "version": "3.11.1"
  },
  "rise": {
   "_transition_options": [
    "none",
    "fade",
    "slide",
    "convex",
    "concave",
    "zoom"
   ],
   "autolaunch": true,
   "backimage": "images/background_2560x1600.svg",
   "center": false,
   "scroll": true,
   "theme": "simple",
   "transition": "slide",
   "z_enable_chalkboard": true,
   "z_footer": "<h3 style='margin-left:225px;margin-bottom:40px;color:grey;'>Sebastián Flores</h3>",
   "z_header": "<h3 style='margin-left:10px;color:grey;'>Vizzualización de Datos</h3>",
   "z_theme_options": [
    "black",
    "white",
    "league",
    "beige",
    "sky",
    "night",
    "serif"
   ]
  }
 },
 "nbformat": 4,
 "nbformat_minor": 4
}
